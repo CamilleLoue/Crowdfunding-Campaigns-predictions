{
 "cells": [
  {
   "cell_type": "markdown",
   "id": "d7d04edf",
   "metadata": {},
   "source": [
    "<h1><center>To Fund or Not to Fund</center></h1>\n",
    "<h4><center>Using Algorithms to Explore and Predict the success of Funding Campaigns </center></h4>\n"
   ]
  },
  {
   "cell_type": "markdown",
   "id": "662cebf9",
   "metadata": {},
   "source": [
    "## Table of Contents\n",
    "\n",
    "* [Chapter 1](#chapter1): Introduction\n",
    "    * [Section 1.1](#section_1_1): Problem Statement\n",
    "    * [Section 1.2](#section_1_2): Research Goal\n",
    "    * [Section 1.3](#section_1_3): Data Overview\n",
    "* [Chapter 2](#chapter2): Data Preparation\n",
    "    * [Section 2.1](#section_2_1): Data Import and Selection\n",
    "    * [Section 2.2](#section_2_2): Data Cleaning\n",
    "    * [Section 2.3](#section_2_3): Feature Engineering\n",
    "    * [Section 2.4](#section_2_4): Display Data\n",
    "* [Chapter 3](#chapter3): Explanatory Data Analysis\n",
    "    * [Section 3.1](#section_3_1): Numerical features statistics\n",
    "    * [Section 3.2](#section_3_2): Festures insights in respect to the target variable\n",
    "    * [Section 3.3](#section_3_3): Correlations and Feature Extraction\n",
    "* [Chapter 4](#chapter4): Models\n",
    "    * [Section 4.1](#section_4_1): Model Exploration\n",
    "    * [Section 4.2](#section_4_2): Model Fine Tuning\n",
    "    * [Section 4.3](#section_4_3): Model Testing\n",
    "* [Chapter 5](#chapter5): Summary\n",
    "* [Chapter 6](#chapter6): References"
   ]
  },
  {
   "cell_type": "markdown",
   "id": "ac36372b",
   "metadata": {},
   "source": [
    "# Chapter 1: <a class=\"anchor\" id=\"chapter1\"></a> Introduction"
   ]
  },
  {
   "cell_type": "markdown",
   "id": "66debb09",
   "metadata": {},
   "source": [
    "### Section 1.1: <a class=\"anchor\" id=\"section_1_1\"></a> Problem Statement"
   ]
  },
  {
   "cell_type": "markdown",
   "id": "3e69e4ec",
   "metadata": {},
   "source": [
    "Crowdfunding has emerged as a primary source of early capital for small firms and start-ups seeking to launch their first concepts. Websites such as Kickstarter enable millions of creators to share their unique ideas with the world. This is a win-win situation in which inventors may raise seed capital while the public has access to cutting-edge prototype items that are not yet accessible on the market.\n",
    "\n",
    "KickStarter has roughly 6,000 active campaigns at any given time with over 200,000 successfully funded projects since the launched of the platform. However, projects are finding it increasingly difficult to distinguish out from the throng. Of course, advertising distributed through numerous platforms are by far the most significant aspect of a successful campaign. However, for artists with a limited budget, this raises the question, **\"How to maximise the likelihood of success of the campaign prior to its launch on the platform?\"**"
   ]
  },
  {
   "cell_type": "markdown",
   "id": "d4083d74",
   "metadata": {},
   "source": [
    "### Section 1.2: <a class=\"anchor\" id=\"section_1_2\"></a> Research Goal"
   ]
  },
  {
   "cell_type": "markdown",
   "id": "d09e1db6",
   "metadata": {},
   "source": [
    "The aim of this report is to support start ups in designing successful campaigns on Kickstarter. Based on data from previous years on the platform, this report aims to provide deeper insights on the potential source of campaign success and to build a prediction model that evaluates wether or not a given campaign will be successful before its launch on the platform."
   ]
  },
  {
   "cell_type": "markdown",
   "id": "ccbe0f84",
   "metadata": {},
   "source": [
    "The analysis as well as the predictions will only be based on the basic information about the campaigns, mainly the launched date, the category of product/concept, the amount requested, and the duration of the campaign."
   ]
  },
  {
   "cell_type": "markdown",
   "id": "27d1d1d5",
   "metadata": {},
   "source": [
    "### Section 1.3: <a class=\"anchor\" id=\"section_1_3\"></a> Data Overview"
   ]
  },
  {
   "cell_type": "markdown",
   "id": "b8ad1a63",
   "metadata": {},
   "source": [
    "The data used in this report has been scrapped and gathered by _Webrobots_. Since 2016, this webpage scrawls and provides data in a the form of a dataset once a month. The datasets do not showcase the live campaigns of every month but all the campaigns on the Kickstarter at that point in time. I concatenated 15 datasets provided between 2016 and 2021, showcasing data from 2009 to 2021. "
   ]
  },
  {
   "cell_type": "markdown",
   "id": "30d8a508",
   "metadata": {},
   "source": [
    "# Chapter 2: <a class=\"anchor\" id=\"chapter2\"></a> Data Preparation"
   ]
  },
  {
   "cell_type": "code",
   "execution_count": 1,
   "id": "735cf652",
   "metadata": {},
   "outputs": [],
   "source": [
    "# Removing warnings\n",
    "import warnings\n",
    "warnings.simplefilter(action='ignore')"
   ]
  },
  {
   "cell_type": "code",
   "execution_count": 2,
   "id": "0221e8ec",
   "metadata": {},
   "outputs": [],
   "source": [
    "# Importing libraries\n",
    "import io\n",
    "from IPython.nbformat import current\n",
    "with io.open(\"KickStarter - 3.ipynb\", 'r', encoding='utf-8') as f:\n",
    "    nb = current.read(f, 'json')\n",
    "import numpy as np\n",
    "import pandas as pd\n",
    "import matplotlib.pyplot as plt\n",
    "import seaborn as sns\n",
    "import matplotlib.patches as mpatches\n",
    "%matplotlib inline\n",
    "from datetime import datetime\n",
    "import sklearn\n",
    "from sklearn import preprocessing\n",
    "from sklearn.preprocessing import LabelEncoder\n",
    "from sklearn.model_selection import train_test_split\n",
    "from sklearn import model_selection\n",
    "from sklearn.metrics import roc_curve\n",
    "from sklearn.metrics import precision_recall_curve\n",
    "from numpy import interp\n",
    "from sklearn.model_selection import KFold\n",
    "from sklearn.model_selection import StratifiedKFold\n",
    "from sklearn.metrics import accuracy_score, auc, average_precision_score, roc_curve, precision_recall_curve\n",
    "from sklearn.model_selection import cross_val_predict\n",
    "from sklearn.model_selection import cross_val_score\n",
    "from sklearn.linear_model import LogisticRegression\n",
    "from sklearn.svm import SVC\n",
    "from sklearn.tree import DecisionTreeClassifier\n",
    "from sklearn.neighbors import KNeighborsClassifier\n",
    "from xgboost import XGBClassifier\n",
    "from sklearn.ensemble import RandomForestClassifier, VotingClassifier\n",
    "import sklearn.metrics as metrics\n",
    "from sklearn.model_selection import GridSearchCV\n",
    "from sklearn.model_selection import RandomizedSearchCV\n",
    "from sklearn.metrics import classification_report, confusion_matrix\n",
    "\n",
    "# Display full output in Notebook\n",
    "from IPython.core.interactiveshell import InteractiveShell\n",
    "InteractiveShell.ast_node_interactivity = \"all\""
   ]
  },
  {
   "cell_type": "markdown",
   "id": "d8483a3e",
   "metadata": {},
   "source": [
    "### Section 2.1: <a class=\"anchor\" id=\"section_2_1\"></a> Data Import and Selection"
   ]
  },
  {
   "cell_type": "markdown",
   "id": "9b176365",
   "metadata": {},
   "source": [
    "#### Data Import"
   ]
  },
  {
   "cell_type": "code",
   "execution_count": 3,
   "id": "979edab4",
   "metadata": {},
   "outputs": [
    {
     "data": {
      "text/html": [
       "<div>\n",
       "<style scoped>\n",
       "    .dataframe tbody tr th:only-of-type {\n",
       "        vertical-align: middle;\n",
       "    }\n",
       "\n",
       "    .dataframe tbody tr th {\n",
       "        vertical-align: top;\n",
       "    }\n",
       "\n",
       "    .dataframe thead th {\n",
       "        text-align: right;\n",
       "    }\n",
       "</style>\n",
       "<table border=\"1\" class=\"dataframe\">\n",
       "  <thead>\n",
       "    <tr style=\"text-align: right;\">\n",
       "      <th></th>\n",
       "      <th>backers_count</th>\n",
       "      <th>blurb</th>\n",
       "      <th>subcategory</th>\n",
       "      <th>category</th>\n",
       "      <th>converted_pledged_amount</th>\n",
       "      <th>country</th>\n",
       "      <th>created_at</th>\n",
       "      <th>currency</th>\n",
       "      <th>deadline</th>\n",
       "      <th>fx_rate</th>\n",
       "      <th>goal</th>\n",
       "      <th>id</th>\n",
       "      <th>launched_at</th>\n",
       "      <th>name</th>\n",
       "      <th>pledged</th>\n",
       "      <th>state</th>\n",
       "      <th>state_changed_at</th>\n",
       "      <th>usd_pledged</th>\n",
       "    </tr>\n",
       "  </thead>\n",
       "  <tbody>\n",
       "    <tr>\n",
       "      <th>0</th>\n",
       "      <td>1</td>\n",
       "      <td>Bringing deliciously fresh snacking to every g...</td>\n",
       "      <td>Food Trucks</td>\n",
       "      <td>Food</td>\n",
       "      <td>50</td>\n",
       "      <td>US</td>\n",
       "      <td>1450855441</td>\n",
       "      <td>USD</td>\n",
       "      <td>1453922267</td>\n",
       "      <td>1.000000</td>\n",
       "      <td>25000.0</td>\n",
       "      <td>1124922936</td>\n",
       "      <td>1451330267</td>\n",
       "      <td>Palmetto Pork Skins</td>\n",
       "      <td>50.0</td>\n",
       "      <td>failed</td>\n",
       "      <td>1453922267</td>\n",
       "      <td>50.00000</td>\n",
       "    </tr>\n",
       "    <tr>\n",
       "      <th>1</th>\n",
       "      <td>610</td>\n",
       "      <td>Warm hands and full access to your camera dial...</td>\n",
       "      <td>Camera Equipment</td>\n",
       "      <td>Technology</td>\n",
       "      <td>40990</td>\n",
       "      <td>NO</td>\n",
       "      <td>1448279489</td>\n",
       "      <td>NOK</td>\n",
       "      <td>1451336400</td>\n",
       "      <td>0.115908</td>\n",
       "      <td>120000.0</td>\n",
       "      <td>1479488174</td>\n",
       "      <td>1448555978</td>\n",
       "      <td>Photography Gloves: Extend your session in style</td>\n",
       "      <td>355520.0</td>\n",
       "      <td>successful</td>\n",
       "      <td>1451336400</td>\n",
       "      <td>41198.35086</td>\n",
       "    </tr>\n",
       "    <tr>\n",
       "      <th>2</th>\n",
       "      <td>11</td>\n",
       "      <td>Enamel pins dedicated to my Grandpa and his di...</td>\n",
       "      <td>Accessories</td>\n",
       "      <td>Fashion</td>\n",
       "      <td>253</td>\n",
       "      <td>US</td>\n",
       "      <td>1571882707</td>\n",
       "      <td>USD</td>\n",
       "      <td>1575075016</td>\n",
       "      <td>1.000000</td>\n",
       "      <td>250.0</td>\n",
       "      <td>2077771673</td>\n",
       "      <td>1572479416</td>\n",
       "      <td>Eat Shit: A Memorial Pin Campaign</td>\n",
       "      <td>253.0</td>\n",
       "      <td>successful</td>\n",
       "      <td>1575075016</td>\n",
       "      <td>253.00000</td>\n",
       "    </tr>\n",
       "    <tr>\n",
       "      <th>3</th>\n",
       "      <td>50</td>\n",
       "      <td>To Rise In Challenge is a brand, lifestyle, me...</td>\n",
       "      <td>Apparel</td>\n",
       "      <td>Fashion</td>\n",
       "      <td>4475</td>\n",
       "      <td>US</td>\n",
       "      <td>1586697917</td>\n",
       "      <td>USD</td>\n",
       "      <td>1604171238</td>\n",
       "      <td>1.000000</td>\n",
       "      <td>4000.0</td>\n",
       "      <td>2008689997</td>\n",
       "      <td>1601579238</td>\n",
       "      <td>TRIC Clothing Co.</td>\n",
       "      <td>4475.0</td>\n",
       "      <td>successful</td>\n",
       "      <td>1604171238</td>\n",
       "      <td>4475.00000</td>\n",
       "    </tr>\n",
       "    <tr>\n",
       "      <th>4</th>\n",
       "      <td>442</td>\n",
       "      <td>Inspiring girls &amp; young women. Join me as I cr...</td>\n",
       "      <td>Graphic Design</td>\n",
       "      <td>Design</td>\n",
       "      <td>38821</td>\n",
       "      <td>AU</td>\n",
       "      <td>1468395078</td>\n",
       "      <td>AUD</td>\n",
       "      <td>1472162364</td>\n",
       "      <td>0.758701</td>\n",
       "      <td>50000.0</td>\n",
       "      <td>1113925398</td>\n",
       "      <td>1469483964</td>\n",
       "      <td>Women's Gold Medalists Rio 2016</td>\n",
       "      <td>50899.0</td>\n",
       "      <td>successful</td>\n",
       "      <td>1472162364</td>\n",
       "      <td>38010.56696</td>\n",
       "    </tr>\n",
       "  </tbody>\n",
       "</table>\n",
       "</div>"
      ],
      "text/plain": [
       "   backers_count                                              blurb  \\\n",
       "0              1  Bringing deliciously fresh snacking to every g...   \n",
       "1            610  Warm hands and full access to your camera dial...   \n",
       "2             11  Enamel pins dedicated to my Grandpa and his di...   \n",
       "3             50  To Rise In Challenge is a brand, lifestyle, me...   \n",
       "4            442  Inspiring girls & young women. Join me as I cr...   \n",
       "\n",
       "        subcategory    category  converted_pledged_amount country  created_at  \\\n",
       "0       Food Trucks        Food                        50      US  1450855441   \n",
       "1  Camera Equipment  Technology                     40990      NO  1448279489   \n",
       "2       Accessories     Fashion                       253      US  1571882707   \n",
       "3           Apparel     Fashion                      4475      US  1586697917   \n",
       "4    Graphic Design      Design                     38821      AU  1468395078   \n",
       "\n",
       "  currency    deadline   fx_rate      goal          id  launched_at  \\\n",
       "0      USD  1453922267  1.000000   25000.0  1124922936   1451330267   \n",
       "1      NOK  1451336400  0.115908  120000.0  1479488174   1448555978   \n",
       "2      USD  1575075016  1.000000     250.0  2077771673   1572479416   \n",
       "3      USD  1604171238  1.000000    4000.0  2008689997   1601579238   \n",
       "4      AUD  1472162364  0.758701   50000.0  1113925398   1469483964   \n",
       "\n",
       "                                               name   pledged       state  \\\n",
       "0                               Palmetto Pork Skins      50.0      failed   \n",
       "1  Photography Gloves: Extend your session in style  355520.0  successful   \n",
       "2                 Eat Shit: A Memorial Pin Campaign     253.0  successful   \n",
       "3                                 TRIC Clothing Co.    4475.0  successful   \n",
       "4                   Women's Gold Medalists Rio 2016   50899.0  successful   \n",
       "\n",
       "   state_changed_at  usd_pledged  \n",
       "0        1453922267     50.00000  \n",
       "1        1451336400  41198.35086  \n",
       "2        1575075016    253.00000  \n",
       "3        1604171238   4475.00000  \n",
       "4        1472162364  38010.56696  "
      ]
     },
     "execution_count": 3,
     "metadata": {},
     "output_type": "execute_result"
    }
   ],
   "source": [
    "# Importing data\n",
    "df = pd.read_csv('df.csv')\n",
    "df.head()"
   ]
  },
  {
   "cell_type": "markdown",
   "id": "37421bf4",
   "metadata": {},
   "source": [
    "#### Data Selection"
   ]
  },
  {
   "cell_type": "code",
   "execution_count": 4,
   "id": "86df094c",
   "metadata": {},
   "outputs": [
    {
     "data": {
      "text/plain": [
       "Index(['backers_count', 'blurb', 'subcategory', 'category',\n",
       "       'converted_pledged_amount', 'country', 'created_at', 'currency',\n",
       "       'deadline', 'fx_rate', 'goal', 'id', 'launched_at', 'name', 'pledged',\n",
       "       'state', 'state_changed_at', 'usd_pledged'],\n",
       "      dtype='object')"
      ]
     },
     "execution_count": 4,
     "metadata": {},
     "output_type": "execute_result"
    }
   ],
   "source": [
    "# Displaying all the columns' names\n",
    "df.columns"
   ]
  },
  {
   "cell_type": "markdown",
   "id": "68040338",
   "metadata": {},
   "source": [
    "In respect to our problem framing, it is sensible to drop the amount pledged (and all the features based on it, e.g. 'usd_pledged','converted_pledged_amount') as well as the 'state_change_at' column since they is a direct indicator of whether a campaign will be successful or not. We will also drop the feature 'created_at', which is not really relevant here because it simply indicates when the campaignwas registered on Kickstarter in contrast to when it was launched."
   ]
  },
  {
   "cell_type": "code",
   "execution_count": 5,
   "id": "71cfff38",
   "metadata": {},
   "outputs": [],
   "source": [
    "# Dropping irrelevant column\n",
    "df = df.drop(['pledged',\n",
    "              'usd_pledged',\n",
    "              'converted_pledged_amount',\n",
    "              'backers_count',\n",
    "              'state_changed_at',\n",
    "              'created_at'], axis = 1)"
   ]
  },
  {
   "cell_type": "markdown",
   "id": "5ae01739",
   "metadata": {},
   "source": [
    "### Section 2.2: <a class=\"anchor\" id=\"section_2_2\"></a> Data Cleaning"
   ]
  },
  {
   "cell_type": "markdown",
   "id": "ef305b3d",
   "metadata": {},
   "source": [
    "**Dropping with duplicated rows**"
   ]
  },
  {
   "cell_type": "code",
   "execution_count": 6,
   "id": "33c8d80d",
   "metadata": {},
   "outputs": [
    {
     "data": {
      "text/plain": [
       "blurb          33383\n",
       "subcategory    33383\n",
       "category       33383\n",
       "country        33383\n",
       "currency       33383\n",
       "deadline       33383\n",
       "fx_rate        33383\n",
       "goal           33383\n",
       "id             33383\n",
       "launched_at    33383\n",
       "name           33383\n",
       "state          33383\n",
       "dtype: int64"
      ]
     },
     "execution_count": 6,
     "metadata": {},
     "output_type": "execute_result"
    }
   ],
   "source": [
    "# Check for number of duplicated rows in each columns\n",
    "df[df.duplicated()].count()"
   ]
  },
  {
   "cell_type": "code",
   "execution_count": 7,
   "id": "960c7f2c",
   "metadata": {
    "scrolled": true
   },
   "outputs": [
    {
     "data": {
      "text/html": [
       "<div>\n",
       "<style scoped>\n",
       "    .dataframe tbody tr th:only-of-type {\n",
       "        vertical-align: middle;\n",
       "    }\n",
       "\n",
       "    .dataframe tbody tr th {\n",
       "        vertical-align: top;\n",
       "    }\n",
       "\n",
       "    .dataframe thead th {\n",
       "        text-align: right;\n",
       "    }\n",
       "</style>\n",
       "<table border=\"1\" class=\"dataframe\">\n",
       "  <thead>\n",
       "    <tr style=\"text-align: right;\">\n",
       "      <th></th>\n",
       "      <th>blurb</th>\n",
       "      <th>subcategory</th>\n",
       "      <th>category</th>\n",
       "      <th>country</th>\n",
       "      <th>currency</th>\n",
       "      <th>deadline</th>\n",
       "      <th>fx_rate</th>\n",
       "      <th>goal</th>\n",
       "      <th>id</th>\n",
       "      <th>launched_at</th>\n",
       "      <th>name</th>\n",
       "      <th>state</th>\n",
       "    </tr>\n",
       "  </thead>\n",
       "  <tbody>\n",
       "    <tr>\n",
       "      <th>1287</th>\n",
       "      <td>I will create short videos from 15 sec to 30 m...</td>\n",
       "      <td>Family</td>\n",
       "      <td>Film &amp; Video</td>\n",
       "      <td>CA</td>\n",
       "      <td>CAD</td>\n",
       "      <td>1610427014</td>\n",
       "      <td>0.785821</td>\n",
       "      <td>5000.0</td>\n",
       "      <td>148828</td>\n",
       "      <td>1607835014</td>\n",
       "      <td>Grow up a family YouTube channel</td>\n",
       "      <td>live</td>\n",
       "    </tr>\n",
       "    <tr>\n",
       "      <th>13803</th>\n",
       "      <td>I will create short videos from 15 sec to 30 m...</td>\n",
       "      <td>Family</td>\n",
       "      <td>Film &amp; Video</td>\n",
       "      <td>CA</td>\n",
       "      <td>CAD</td>\n",
       "      <td>1610427014</td>\n",
       "      <td>0.785821</td>\n",
       "      <td>5000.0</td>\n",
       "      <td>148828</td>\n",
       "      <td>1607835014</td>\n",
       "      <td>Grow up a family YouTube channel</td>\n",
       "      <td>live</td>\n",
       "    </tr>\n",
       "    <tr>\n",
       "      <th>45945</th>\n",
       "      <td>A Limited Edition coffee table book of epic Je...</td>\n",
       "      <td>Photobooks</td>\n",
       "      <td>Photography</td>\n",
       "      <td>US</td>\n",
       "      <td>USD</td>\n",
       "      <td>1554049087</td>\n",
       "      <td>1.000000</td>\n",
       "      <td>20000.0</td>\n",
       "      <td>325875</td>\n",
       "      <td>1551460687</td>\n",
       "      <td>Just Jerry : Jerry Garcia Photographed by Bob ...</td>\n",
       "      <td>successful</td>\n",
       "    </tr>\n",
       "    <tr>\n",
       "      <th>91897</th>\n",
       "      <td>A Limited Edition coffee table book of epic Je...</td>\n",
       "      <td>Photobooks</td>\n",
       "      <td>Photography</td>\n",
       "      <td>US</td>\n",
       "      <td>USD</td>\n",
       "      <td>1554049087</td>\n",
       "      <td>1.000000</td>\n",
       "      <td>20000.0</td>\n",
       "      <td>325875</td>\n",
       "      <td>1551460687</td>\n",
       "      <td>Just Jerry : Jerry Garcia Photographed by Bob ...</td>\n",
       "      <td>successful</td>\n",
       "    </tr>\n",
       "    <tr>\n",
       "      <th>95611</th>\n",
       "      <td>The next phase and evolution of Surreal ValeCi...</td>\n",
       "      <td>Web</td>\n",
       "      <td>Journalism</td>\n",
       "      <td>US</td>\n",
       "      <td>USD</td>\n",
       "      <td>1523472008</td>\n",
       "      <td>1.000000</td>\n",
       "      <td>2500.0</td>\n",
       "      <td>377517</td>\n",
       "      <td>1520880008</td>\n",
       "      <td>New definition of media: Evolving a Surreal Va...</td>\n",
       "      <td>failed</td>\n",
       "    </tr>\n",
       "    <tr>\n",
       "      <th>...</th>\n",
       "      <td>...</td>\n",
       "      <td>...</td>\n",
       "      <td>...</td>\n",
       "      <td>...</td>\n",
       "      <td>...</td>\n",
       "      <td>...</td>\n",
       "      <td>...</td>\n",
       "      <td>...</td>\n",
       "      <td>...</td>\n",
       "      <td>...</td>\n",
       "      <td>...</td>\n",
       "      <td>...</td>\n",
       "    </tr>\n",
       "    <tr>\n",
       "      <th>67768</th>\n",
       "      <td>Help Never Say Die bring their new full length...</td>\n",
       "      <td>Punk</td>\n",
       "      <td>Music</td>\n",
       "      <td>US</td>\n",
       "      <td>USD</td>\n",
       "      <td>1590764399</td>\n",
       "      <td>1.000000</td>\n",
       "      <td>500.0</td>\n",
       "      <td>2147358637</td>\n",
       "      <td>1588172399</td>\n",
       "      <td>Never Say Die's 3rd album Punk Rock Pirates</td>\n",
       "      <td>successful</td>\n",
       "    </tr>\n",
       "    <tr>\n",
       "      <th>232529</th>\n",
       "      <td>Help Never Say Die bring their new full length...</td>\n",
       "      <td>Punk</td>\n",
       "      <td>Music</td>\n",
       "      <td>US</td>\n",
       "      <td>USD</td>\n",
       "      <td>1590764399</td>\n",
       "      <td>1.000000</td>\n",
       "      <td>500.0</td>\n",
       "      <td>2147358637</td>\n",
       "      <td>1588172399</td>\n",
       "      <td>Never Say Die's 3rd album Punk Rock Pirates</td>\n",
       "      <td>successful</td>\n",
       "    </tr>\n",
       "    <tr>\n",
       "      <th>172855</th>\n",
       "      <td>Help Never Say Die bring their new full length...</td>\n",
       "      <td>Punk</td>\n",
       "      <td>Music</td>\n",
       "      <td>US</td>\n",
       "      <td>USD</td>\n",
       "      <td>1590764399</td>\n",
       "      <td>1.000000</td>\n",
       "      <td>500.0</td>\n",
       "      <td>2147358637</td>\n",
       "      <td>1588172399</td>\n",
       "      <td>Never Say Die's 3rd album Punk Rock Pirates</td>\n",
       "      <td>successful</td>\n",
       "    </tr>\n",
       "    <tr>\n",
       "      <th>214560</th>\n",
       "      <td>New reinforcements for Punkapocalyptic or just...</td>\n",
       "      <td>Tabletop Games</td>\n",
       "      <td>Games</td>\n",
       "      <td>ES</td>\n",
       "      <td>EUR</td>\n",
       "      <td>1602604802</td>\n",
       "      <td>1.216478</td>\n",
       "      <td>10000.0</td>\n",
       "      <td>2147405101</td>\n",
       "      <td>1601395202</td>\n",
       "      <td>Punkapocalyptic. Masters of the Wasteland</td>\n",
       "      <td>successful</td>\n",
       "    </tr>\n",
       "    <tr>\n",
       "      <th>156232</th>\n",
       "      <td>New reinforcements for Punkapocalyptic or just...</td>\n",
       "      <td>Tabletop Games</td>\n",
       "      <td>Games</td>\n",
       "      <td>ES</td>\n",
       "      <td>EUR</td>\n",
       "      <td>1602604802</td>\n",
       "      <td>1.216478</td>\n",
       "      <td>10000.0</td>\n",
       "      <td>2147405101</td>\n",
       "      <td>1601395202</td>\n",
       "      <td>Punkapocalyptic. Masters of the Wasteland</td>\n",
       "      <td>successful</td>\n",
       "    </tr>\n",
       "  </tbody>\n",
       "</table>\n",
       "<p>63899 rows × 12 columns</p>\n",
       "</div>"
      ],
      "text/plain": [
       "                                                    blurb     subcategory  \\\n",
       "1287    I will create short videos from 15 sec to 30 m...          Family   \n",
       "13803   I will create short videos from 15 sec to 30 m...          Family   \n",
       "45945   A Limited Edition coffee table book of epic Je...      Photobooks   \n",
       "91897   A Limited Edition coffee table book of epic Je...      Photobooks   \n",
       "95611   The next phase and evolution of Surreal ValeCi...             Web   \n",
       "...                                                   ...             ...   \n",
       "67768   Help Never Say Die bring their new full length...            Punk   \n",
       "232529  Help Never Say Die bring their new full length...            Punk   \n",
       "172855  Help Never Say Die bring their new full length...            Punk   \n",
       "214560  New reinforcements for Punkapocalyptic or just...  Tabletop Games   \n",
       "156232  New reinforcements for Punkapocalyptic or just...  Tabletop Games   \n",
       "\n",
       "            category country currency    deadline   fx_rate     goal  \\\n",
       "1287    Film & Video      CA      CAD  1610427014  0.785821   5000.0   \n",
       "13803   Film & Video      CA      CAD  1610427014  0.785821   5000.0   \n",
       "45945    Photography      US      USD  1554049087  1.000000  20000.0   \n",
       "91897    Photography      US      USD  1554049087  1.000000  20000.0   \n",
       "95611     Journalism      US      USD  1523472008  1.000000   2500.0   \n",
       "...              ...     ...      ...         ...       ...      ...   \n",
       "67768          Music      US      USD  1590764399  1.000000    500.0   \n",
       "232529         Music      US      USD  1590764399  1.000000    500.0   \n",
       "172855         Music      US      USD  1590764399  1.000000    500.0   \n",
       "214560         Games      ES      EUR  1602604802  1.216478  10000.0   \n",
       "156232         Games      ES      EUR  1602604802  1.216478  10000.0   \n",
       "\n",
       "                id  launched_at  \\\n",
       "1287        148828   1607835014   \n",
       "13803       148828   1607835014   \n",
       "45945       325875   1551460687   \n",
       "91897       325875   1551460687   \n",
       "95611       377517   1520880008   \n",
       "...            ...          ...   \n",
       "67768   2147358637   1588172399   \n",
       "232529  2147358637   1588172399   \n",
       "172855  2147358637   1588172399   \n",
       "214560  2147405101   1601395202   \n",
       "156232  2147405101   1601395202   \n",
       "\n",
       "                                                     name       state  \n",
       "1287                     Grow up a family YouTube channel        live  \n",
       "13803                    Grow up a family YouTube channel        live  \n",
       "45945   Just Jerry : Jerry Garcia Photographed by Bob ...  successful  \n",
       "91897   Just Jerry : Jerry Garcia Photographed by Bob ...  successful  \n",
       "95611   New definition of media: Evolving a Surreal Va...      failed  \n",
       "...                                                   ...         ...  \n",
       "67768         Never Say Die's 3rd album Punk Rock Pirates  successful  \n",
       "232529        Never Say Die's 3rd album Punk Rock Pirates  successful  \n",
       "172855        Never Say Die's 3rd album Punk Rock Pirates  successful  \n",
       "214560          Punkapocalyptic. Masters of the Wasteland  successful  \n",
       "156232          Punkapocalyptic. Masters of the Wasteland  successful  \n",
       "\n",
       "[63899 rows x 12 columns]"
      ]
     },
     "execution_count": 7,
     "metadata": {},
     "output_type": "execute_result"
    }
   ],
   "source": [
    "# Check for the content of duplicated rows\n",
    "pd.options.display.max_columns = None\n",
    "df[df.duplicated(keep=False)].sort_values('id')"
   ]
  },
  {
   "cell_type": "markdown",
   "id": "0c63e345",
   "metadata": {},
   "source": [
    "More than 33,000 rows have duplicates, this is due to the webscraping of several weeks everlapping that I aggregated in one dataset. "
   ]
  },
  {
   "cell_type": "code",
   "execution_count": 8,
   "id": "8794d612",
   "metadata": {},
   "outputs": [
    {
     "data": {
      "text/plain": [
       "blurb          0\n",
       "subcategory    8\n",
       "category       8\n",
       "country        8\n",
       "currency       8\n",
       "deadline       8\n",
       "fx_rate        8\n",
       "goal           8\n",
       "id             8\n",
       "launched_at    8\n",
       "name           8\n",
       "state          8\n",
       "dtype: int64"
      ]
     },
     "execution_count": 8,
     "metadata": {},
     "output_type": "execute_result"
    }
   ],
   "source": [
    "# Dropping the duplicates\n",
    "df = df.drop_duplicates(keep=False)\n",
    "\n",
    "# Checking null values\n",
    "df[df.isnull().any(axis=1)].count()"
   ]
  },
  {
   "cell_type": "code",
   "execution_count": 9,
   "id": "95ca0462",
   "metadata": {},
   "outputs": [
    {
     "data": {
      "text/html": [
       "<div>\n",
       "<style scoped>\n",
       "    .dataframe tbody tr th:only-of-type {\n",
       "        vertical-align: middle;\n",
       "    }\n",
       "\n",
       "    .dataframe tbody tr th {\n",
       "        vertical-align: top;\n",
       "    }\n",
       "\n",
       "    .dataframe thead th {\n",
       "        text-align: right;\n",
       "    }\n",
       "</style>\n",
       "<table border=\"1\" class=\"dataframe\">\n",
       "  <thead>\n",
       "    <tr style=\"text-align: right;\">\n",
       "      <th></th>\n",
       "      <th>blurb</th>\n",
       "      <th>subcategory</th>\n",
       "      <th>category</th>\n",
       "      <th>country</th>\n",
       "      <th>currency</th>\n",
       "      <th>deadline</th>\n",
       "      <th>fx_rate</th>\n",
       "      <th>goal</th>\n",
       "      <th>id</th>\n",
       "      <th>launched_at</th>\n",
       "      <th>name</th>\n",
       "      <th>state</th>\n",
       "    </tr>\n",
       "  </thead>\n",
       "  <tbody>\n",
       "    <tr>\n",
       "      <th>3375</th>\n",
       "      <td>NaN</td>\n",
       "      <td>Spaces</td>\n",
       "      <td>Theater</td>\n",
       "      <td>US</td>\n",
       "      <td>USD</td>\n",
       "      <td>1452142672</td>\n",
       "      <td>1.000000</td>\n",
       "      <td>1500000.0</td>\n",
       "      <td>272079457</td>\n",
       "      <td>1449550672</td>\n",
       "      <td>N/A (Canceled)</td>\n",
       "      <td>canceled</td>\n",
       "    </tr>\n",
       "    <tr>\n",
       "      <th>6284</th>\n",
       "      <td>NaN</td>\n",
       "      <td>Printing</td>\n",
       "      <td>Crafts</td>\n",
       "      <td>US</td>\n",
       "      <td>USD</td>\n",
       "      <td>1408334400</td>\n",
       "      <td>1.000000</td>\n",
       "      <td>100.0</td>\n",
       "      <td>233547398</td>\n",
       "      <td>1407441222</td>\n",
       "      <td>Vending Machine (Canceled)</td>\n",
       "      <td>canceled</td>\n",
       "    </tr>\n",
       "    <tr>\n",
       "      <th>19019</th>\n",
       "      <td>NaN</td>\n",
       "      <td>Conceptual Art</td>\n",
       "      <td>Art</td>\n",
       "      <td>US</td>\n",
       "      <td>USD</td>\n",
       "      <td>1427901540</td>\n",
       "      <td>1.000000</td>\n",
       "      <td>100000.0</td>\n",
       "      <td>1879498871</td>\n",
       "      <td>1424210815</td>\n",
       "      <td>N/A (Canceled)</td>\n",
       "      <td>canceled</td>\n",
       "    </tr>\n",
       "    <tr>\n",
       "      <th>40955</th>\n",
       "      <td>NaN</td>\n",
       "      <td>Conceptual Art</td>\n",
       "      <td>Art</td>\n",
       "      <td>US</td>\n",
       "      <td>USD</td>\n",
       "      <td>1335042707</td>\n",
       "      <td>1.000000</td>\n",
       "      <td>50000.0</td>\n",
       "      <td>1224405542</td>\n",
       "      <td>1331158307</td>\n",
       "      <td>N/A (Canceled)</td>\n",
       "      <td>canceled</td>\n",
       "    </tr>\n",
       "    <tr>\n",
       "      <th>78274</th>\n",
       "      <td>NaN</td>\n",
       "      <td>Food Trucks</td>\n",
       "      <td>Food</td>\n",
       "      <td>US</td>\n",
       "      <td>USD</td>\n",
       "      <td>1475959978</td>\n",
       "      <td>1.000000</td>\n",
       "      <td>15000.0</td>\n",
       "      <td>899643147</td>\n",
       "      <td>1473367978</td>\n",
       "      <td>N/A (Canceled)</td>\n",
       "      <td>canceled</td>\n",
       "    </tr>\n",
       "    <tr>\n",
       "      <th>98849</th>\n",
       "      <td>NaN</td>\n",
       "      <td>Sound</td>\n",
       "      <td>Technology</td>\n",
       "      <td>GB</td>\n",
       "      <td>GBP</td>\n",
       "      <td>1446209511</td>\n",
       "      <td>1.354034</td>\n",
       "      <td>60000.0</td>\n",
       "      <td>626888806</td>\n",
       "      <td>1443617511</td>\n",
       "      <td>Star Wars Bluetooth Speakers (Canceled)</td>\n",
       "      <td>canceled</td>\n",
       "    </tr>\n",
       "    <tr>\n",
       "      <th>133232</th>\n",
       "      <td>NaN</td>\n",
       "      <td>Digital Art</td>\n",
       "      <td>Art</td>\n",
       "      <td>US</td>\n",
       "      <td>USD</td>\n",
       "      <td>1515800048</td>\n",
       "      <td>1.000000</td>\n",
       "      <td>40000.0</td>\n",
       "      <td>1077399482</td>\n",
       "      <td>1510616048</td>\n",
       "      <td>awlsies</td>\n",
       "      <td>failed</td>\n",
       "    </tr>\n",
       "    <tr>\n",
       "      <th>163070</th>\n",
       "      <td>NaN</td>\n",
       "      <td>Ready-to-wear</td>\n",
       "      <td>Fashion</td>\n",
       "      <td>DE</td>\n",
       "      <td>EUR</td>\n",
       "      <td>1507625188</td>\n",
       "      <td>1.222525</td>\n",
       "      <td>15000.0</td>\n",
       "      <td>937524480</td>\n",
       "      <td>1505033188</td>\n",
       "      <td>Ready to wear</td>\n",
       "      <td>failed</td>\n",
       "    </tr>\n",
       "  </tbody>\n",
       "</table>\n",
       "</div>"
      ],
      "text/plain": [
       "       blurb     subcategory    category country currency    deadline  \\\n",
       "3375     NaN          Spaces     Theater      US      USD  1452142672   \n",
       "6284     NaN        Printing      Crafts      US      USD  1408334400   \n",
       "19019    NaN  Conceptual Art         Art      US      USD  1427901540   \n",
       "40955    NaN  Conceptual Art         Art      US      USD  1335042707   \n",
       "78274    NaN     Food Trucks        Food      US      USD  1475959978   \n",
       "98849    NaN           Sound  Technology      GB      GBP  1446209511   \n",
       "133232   NaN     Digital Art         Art      US      USD  1515800048   \n",
       "163070   NaN   Ready-to-wear     Fashion      DE      EUR  1507625188   \n",
       "\n",
       "         fx_rate       goal          id  launched_at  \\\n",
       "3375    1.000000  1500000.0   272079457   1449550672   \n",
       "6284    1.000000      100.0   233547398   1407441222   \n",
       "19019   1.000000   100000.0  1879498871   1424210815   \n",
       "40955   1.000000    50000.0  1224405542   1331158307   \n",
       "78274   1.000000    15000.0   899643147   1473367978   \n",
       "98849   1.354034    60000.0   626888806   1443617511   \n",
       "133232  1.000000    40000.0  1077399482   1510616048   \n",
       "163070  1.222525    15000.0   937524480   1505033188   \n",
       "\n",
       "                                           name     state  \n",
       "3375                             N/A (Canceled)  canceled  \n",
       "6284                 Vending Machine (Canceled)  canceled  \n",
       "19019                            N/A (Canceled)  canceled  \n",
       "40955                            N/A (Canceled)  canceled  \n",
       "78274                            N/A (Canceled)  canceled  \n",
       "98849   Star Wars Bluetooth Speakers (Canceled)  canceled  \n",
       "133232                                  awlsies    failed  \n",
       "163070                            Ready to wear    failed  "
      ]
     },
     "execution_count": 9,
     "metadata": {},
     "output_type": "execute_result"
    }
   ],
   "source": [
    "# Checking the the rows with null values\n",
    "df[df.isnull().any(axis=1)]"
   ]
  },
  {
   "cell_type": "code",
   "execution_count": 10,
   "id": "8bc98fca",
   "metadata": {},
   "outputs": [
    {
     "data": {
      "text/plain": [
       "blurb          0\n",
       "subcategory    0\n",
       "category       0\n",
       "country        0\n",
       "currency       0\n",
       "deadline       0\n",
       "fx_rate        0\n",
       "goal           0\n",
       "id             0\n",
       "launched_at    0\n",
       "name           0\n",
       "state          0\n",
       "dtype: int64"
      ]
     },
     "execution_count": 10,
     "metadata": {},
     "output_type": "execute_result"
    }
   ],
   "source": [
    "# Dropping the 8 rows with null values\n",
    "df = df.dropna()\n",
    "\n",
    "# Checking if we don't have any null values anymore\n",
    "df[df.isnull().any(axis=1)].count()"
   ]
  },
  {
   "cell_type": "markdown",
   "id": "6cefa2c5",
   "metadata": {},
   "source": [
    "**Renaming columns:**"
   ]
  },
  {
   "cell_type": "code",
   "execution_count": 11,
   "id": "cf33f117",
   "metadata": {},
   "outputs": [
    {
     "data": {
      "text/html": [
       "<div>\n",
       "<style scoped>\n",
       "    .dataframe tbody tr th:only-of-type {\n",
       "        vertical-align: middle;\n",
       "    }\n",
       "\n",
       "    .dataframe tbody tr th {\n",
       "        vertical-align: top;\n",
       "    }\n",
       "\n",
       "    .dataframe thead th {\n",
       "        text-align: right;\n",
       "    }\n",
       "</style>\n",
       "<table border=\"1\" class=\"dataframe\">\n",
       "  <thead>\n",
       "    <tr style=\"text-align: right;\">\n",
       "      <th></th>\n",
       "      <th>description</th>\n",
       "      <th>subcategory</th>\n",
       "      <th>category</th>\n",
       "      <th>country</th>\n",
       "      <th>currency</th>\n",
       "      <th>deadline</th>\n",
       "      <th>fix_rate</th>\n",
       "      <th>goal</th>\n",
       "      <th>id</th>\n",
       "      <th>launched_date</th>\n",
       "      <th>name</th>\n",
       "      <th>state</th>\n",
       "    </tr>\n",
       "  </thead>\n",
       "  <tbody>\n",
       "    <tr>\n",
       "      <th>0</th>\n",
       "      <td>Bringing deliciously fresh snacking to every g...</td>\n",
       "      <td>Food Trucks</td>\n",
       "      <td>Food</td>\n",
       "      <td>US</td>\n",
       "      <td>USD</td>\n",
       "      <td>1453922267</td>\n",
       "      <td>1.000000</td>\n",
       "      <td>25000.0</td>\n",
       "      <td>1124922936</td>\n",
       "      <td>1451330267</td>\n",
       "      <td>Palmetto Pork Skins</td>\n",
       "      <td>failed</td>\n",
       "    </tr>\n",
       "    <tr>\n",
       "      <th>1</th>\n",
       "      <td>Warm hands and full access to your camera dial...</td>\n",
       "      <td>Camera Equipment</td>\n",
       "      <td>Technology</td>\n",
       "      <td>NO</td>\n",
       "      <td>NOK</td>\n",
       "      <td>1451336400</td>\n",
       "      <td>0.115908</td>\n",
       "      <td>120000.0</td>\n",
       "      <td>1479488174</td>\n",
       "      <td>1448555978</td>\n",
       "      <td>Photography Gloves: Extend your session in style</td>\n",
       "      <td>successful</td>\n",
       "    </tr>\n",
       "    <tr>\n",
       "      <th>4</th>\n",
       "      <td>Inspiring girls &amp; young women. Join me as I cr...</td>\n",
       "      <td>Graphic Design</td>\n",
       "      <td>Design</td>\n",
       "      <td>AU</td>\n",
       "      <td>AUD</td>\n",
       "      <td>1472162364</td>\n",
       "      <td>0.758701</td>\n",
       "      <td>50000.0</td>\n",
       "      <td>1113925398</td>\n",
       "      <td>1469483964</td>\n",
       "      <td>Women's Gold Medalists Rio 2016</td>\n",
       "      <td>successful</td>\n",
       "    </tr>\n",
       "  </tbody>\n",
       "</table>\n",
       "</div>"
      ],
      "text/plain": [
       "                                         description       subcategory  \\\n",
       "0  Bringing deliciously fresh snacking to every g...       Food Trucks   \n",
       "1  Warm hands and full access to your camera dial...  Camera Equipment   \n",
       "4  Inspiring girls & young women. Join me as I cr...    Graphic Design   \n",
       "\n",
       "     category country currency    deadline  fix_rate      goal          id  \\\n",
       "0        Food      US      USD  1453922267  1.000000   25000.0  1124922936   \n",
       "1  Technology      NO      NOK  1451336400  0.115908  120000.0  1479488174   \n",
       "4      Design      AU      AUD  1472162364  0.758701   50000.0  1113925398   \n",
       "\n",
       "   launched_date                                              name       state  \n",
       "0     1451330267                               Palmetto Pork Skins      failed  \n",
       "1     1448555978  Photography Gloves: Extend your session in style  successful  \n",
       "4     1469483964                   Women's Gold Medalists Rio 2016  successful  "
      ]
     },
     "execution_count": 11,
     "metadata": {},
     "output_type": "execute_result"
    }
   ],
   "source": [
    "column_names = {\"blurb\":\"description\",\n",
    "         \"subcategory\":\"subcategory\",\n",
    "         \"category\":\"category\", \n",
    "         \"country\":\"country\", \n",
    "         \"currency\":\"currency\", \n",
    "         \"deadline\":\"deadline\", \n",
    "         \"fx_rate\":\"fix_rate\", \n",
    "         \"goal\":\"goal\", \n",
    "         \"id\":\"id\", \n",
    "         \"launched_at\":\"launched_date\", \n",
    "         \"name\":\"name\"}\n",
    "\n",
    "df = df.rename(mapper = column_names, axis = 1)\n",
    "\n",
    "df.head(3)"
   ]
  },
  {
   "cell_type": "markdown",
   "id": "15129c4c",
   "metadata": {},
   "source": [
    "### Section 2.3: <a class=\"anchor\" id=\"section_2_3\"></a> Feature Engineering"
   ]
  },
  {
   "cell_type": "markdown",
   "id": "c890efb8",
   "metadata": {},
   "source": [
    "In this section, we will change the nature of some of the columns as well as include new features in order to better prepare our data for, in the first part, understanding the cause of successful campaigns and, in a second part, feeding the models with qualitative data."
   ]
  },
  {
   "cell_type": "code",
   "execution_count": 12,
   "id": "6671ef55",
   "metadata": {},
   "outputs": [
    {
     "name": "stdout",
     "output_type": "stream",
     "text": [
      "<class 'pandas.core.frame.DataFrame'>\n",
      "Int64Index: 177140 entries, 0 to 241046\n",
      "Data columns (total 12 columns):\n",
      " #   Column         Non-Null Count   Dtype  \n",
      "---  ------         --------------   -----  \n",
      " 0   description    177140 non-null  object \n",
      " 1   subcategory    177140 non-null  object \n",
      " 2   category       177140 non-null  object \n",
      " 3   country        177140 non-null  object \n",
      " 4   currency       177140 non-null  object \n",
      " 5   deadline       177140 non-null  int64  \n",
      " 6   fix_rate       177140 non-null  float64\n",
      " 7   goal           177140 non-null  float64\n",
      " 8   id             177140 non-null  int64  \n",
      " 9   launched_date  177140 non-null  int64  \n",
      " 10  name           177140 non-null  object \n",
      " 11  state          177140 non-null  object \n",
      "dtypes: float64(2), int64(3), object(7)\n",
      "memory usage: 17.6+ MB\n"
     ]
    }
   ],
   "source": [
    "# Overview of the datatype of each column\n",
    "df.info()"
   ]
  },
  {
   "cell_type": "code",
   "execution_count": 13,
   "id": "76589922",
   "metadata": {},
   "outputs": [],
   "source": [
    "# Converting date features to a datetime format\n",
    "date_col = ['launched_date','deadline']\n",
    "\n",
    "for i in date_col:\n",
    "    df[i] = df[i].apply(lambda x: datetime.fromtimestamp(int(x)).strftime(\"%Y-%m-%d\"))\n",
    "    \n",
    "df['launched_date'] = pd.to_datetime(df['launched_date'], format=\"%Y-%m-%d\", infer_datetime_format=True, errors='coerce')\n",
    "df['deadline'] = pd.to_datetime(df['deadline'], format=\"%Y-%m-%d\", infer_datetime_format=True, errors='coerce')"
   ]
  },
  {
   "cell_type": "code",
   "execution_count": 14,
   "id": "ca9e3ec1",
   "metadata": {},
   "outputs": [
    {
     "name": "stdout",
     "output_type": "stream",
     "text": [
      "number of categories in category: 15\n",
      "number of categories in subcategory: 159\n",
      "number of categories in country: 25\n",
      "number of categories in state: 4\n"
     ]
    }
   ],
   "source": [
    "# Checking the number of categories in each categorical column\n",
    "print('number of categories in category: '+ str(df['category'].nunique()))\n",
    "print('number of categories in subcategory: ' + str(df['subcategory'].nunique()))\n",
    "print('number of categories in country: ' + str(df['country'].nunique()))\n",
    "print('number of categories in state: ' + str(df['state'].nunique()))"
   ]
  },
  {
   "cell_type": "code",
   "execution_count": 15,
   "id": "6ec30f17",
   "metadata": {
    "scrolled": false
   },
   "outputs": [
    {
     "name": "stdout",
     "output_type": "stream",
     "text": [
      "Category: \n",
      " ['Food' 'Technology' 'Design' 'Music' 'Crafts' 'Photography' 'Fashion'\n",
      " 'Comics' 'Dance' 'Theater' 'Film & Video' 'Publishing' 'Journalism'\n",
      " 'Games' 'Art'] \n",
      "\n",
      "Subcategory: \n",
      " ['Food Trucks' 'Camera Equipment' 'Graphic Design' 'Apps' 'Rock'\n",
      " 'Stationery' 'Nature' 'Crochet' 'World Music' 'Cookbooks' 'Accessories'\n",
      " 'Graphic Novels' 'Spaces' 'Fine Art' 'Plays' 'Festivals' 'Immersive'\n",
      " 'Experimental' 'Software' 'Apparel' 'Design' 'Metal' 'Fashion' 'Bacon'\n",
      " 'R&B' 'Webseries' 'Interactive Design' 'Academic' 'DIY Electronics'\n",
      " 'Calendars' 'Web' 'Mobile Games' 'Classical Music' 'Playing Cards'\n",
      " 'Gadgets' '3D Printing' 'Theater' 'Food' 'Narrative Film'\n",
      " 'Radio & Podcasts' 'Farms' 'Zines' 'Vegan' 'Events' 'Jewelry' 'Animation'\n",
      " 'Public Art' 'Art Books' 'Romance' 'Technology' 'Musical' 'Anthologies'\n",
      " 'Documentary' 'Textiles' 'People' 'Space Exploration' 'Knitting' 'Flight'\n",
      " 'Puzzles' 'Sound' 'Comedy' 'Audio' 'Typography' 'Hardware' 'Footwear'\n",
      " 'Print' 'Robots' 'Shorts' 'Wearables' 'Fabrication Tools' 'Weaving'\n",
      " 'Woodworking' 'Family' 'Electronic Music' 'Video Games' 'Hip-Hop'\n",
      " 'Civic Design' 'Live Games' 'Poetry' 'Kids' 'Pottery' 'Places'\n",
      " 'Film & Video' 'Performances' 'Animals' 'Drama' 'Horror' 'Thrillers'\n",
      " 'Painting' 'Performance Art' 'Couture' 'DIY' \"Farmer's Markets\"\n",
      " 'Product Design' 'Faith' 'Blues' 'Workshops' 'Embroidery' 'Punk' 'Quilts'\n",
      " 'Photobooks' 'Sculpture' 'Childrenswear' 'Jazz' 'Drinks' 'Translations'\n",
      " 'Photography' 'Young Adult' \"Children's Books\" 'Comic Books' 'Fiction'\n",
      " 'Candles' 'Glass' 'Pop' 'Photo' 'Literary Journals' 'Installations'\n",
      " 'Gaming Hardware' 'Country & Folk' 'Journalism' 'Digital Art'\n",
      " 'Small Batch' 'Music' 'Fantasy' 'Makerspaces' 'Television' 'Illustration'\n",
      " 'Nonfiction' 'Science Fiction' 'Ceramics' 'Video Art' 'Architecture'\n",
      " 'Mixed Media' 'Tabletop Games' 'Webcomics' 'Action' 'Comics'\n",
      " 'Restaurants' 'Video' 'Conceptual Art' 'Movie Theaters' 'Literary Spaces'\n",
      " 'Pet Fashion' 'Letterpress' 'Latin' 'Dance' 'Indie Rock' 'Ready-to-wear'\n",
      " 'Music Videos' 'Periodicals' 'Printing' 'Art' 'Toys' 'Chiptune'\n",
      " 'Residencies' 'Games' 'Community Gardens' 'Social Practice' 'Taxidermy'] \n",
      "\n",
      "Currency: \n",
      " ['USD' 'NOK' 'AUD' 'MXN' 'GBP' 'EUR' 'SEK' 'HKD' 'DKK' 'CAD' 'NZD' 'SGD'\n",
      " 'CHF' 'JPY' 'PLN'] \n",
      "\n",
      "Country: \n",
      " ['US' 'NO' 'AU' 'MX' 'GB' 'DE' 'SE' 'HK' 'DK' 'CA' 'NZ' 'FR' 'SG' 'IT'\n",
      " 'ES' 'NL' 'CH' 'IE' 'BE' 'JP' 'AT' 'PL' 'LU' 'SI' 'GR'] \n",
      "\n",
      "State: \n",
      " ['failed' 'successful' 'canceled' 'live'] \n",
      "\n"
     ]
    }
   ],
   "source": [
    "# Checking value consistency in categorical column\n",
    "print('Category: \\n', df['category'].unique(), \"\\n\")\n",
    "print('Subcategory: \\n', df['subcategory'].unique(), \"\\n\")\n",
    "print('Currency: \\n', df['currency'].unique(), \"\\n\")        \n",
    "print('Country: \\n', df['country'].unique(), \"\\n\")\n",
    "print('State: \\n', df['state'].unique(), \"\\n\")"
   ]
  },
  {
   "cell_type": "code",
   "execution_count": 16,
   "id": "acae77ad",
   "metadata": {},
   "outputs": [],
   "source": [
    "# Dropping campaigns that are neither successful nor failed as, in this analysis, \n",
    "# we are only interested in those 2 outcomes\n",
    "df = df[df['state']!='live']\n",
    "df = df[df['state']!='canceled']"
   ]
  },
  {
   "cell_type": "code",
   "execution_count": 17,
   "id": "25fadbc4",
   "metadata": {},
   "outputs": [
    {
     "data": {
      "text/plain": [
       "dtype('int64')"
      ]
     },
     "execution_count": 17,
     "metadata": {},
     "output_type": "execute_result"
    }
   ],
   "source": [
    "# Converting state type into a boolean type in order to use the data more easily when plotting graphs and\n",
    "# more importantly, for the models to interpret the variable in a more digest way\n",
    "df['state'] = df['state'].replace({'successful':1, 'failed':0})\n",
    "df['state'] = df['state'].astype(int)\n",
    "df['state'].dtype"
   ]
  },
  {
   "cell_type": "code",
   "execution_count": 18,
   "id": "ddafdea1",
   "metadata": {},
   "outputs": [],
   "source": [
    "# Creating a new feature with the difference in weeks between launch date and deadline\n",
    "df['duration'] = ((df['deadline'] - df['launched_date']).dt.days)//7"
   ]
  },
  {
   "cell_type": "code",
   "execution_count": 19,
   "id": "282b54bc",
   "metadata": {},
   "outputs": [],
   "source": [
    "# Converting goal in USD for each campaign\n",
    "df['goal_usd'] = df['goal'] * df['fix_rate']\n",
    "df = df.drop(['goal','fix_rate'],axis=1)\n",
    "df = df.rename(columns={'goal_usd': 'goal'})"
   ]
  },
  {
   "cell_type": "code",
   "execution_count": 20,
   "id": "d2b71d5f",
   "metadata": {},
   "outputs": [],
   "source": [
    "# Converting the launched date into a categorical feature by splitting them into day, month and year columns\n",
    "df[\"launched_day\"] = df['launched_date'].map(lambda x: x.day)\n",
    "df[\"launched_month\"] = df['launched_date'].map(lambda x: x.month)\n",
    "df[\"launched_year\"] = df['launched_date'].map(lambda x: x.year)"
   ]
  },
  {
   "cell_type": "code",
   "execution_count": 21,
   "id": "1a284e84",
   "metadata": {},
   "outputs": [],
   "source": [
    "# Creating two new columns based on the length of the campaign's name and description\n",
    "df['name_length'] = df['name'].str.len()\n",
    "df['description_length'] = df['description'].str.len()"
   ]
  },
  {
   "cell_type": "markdown",
   "id": "73f6ca88",
   "metadata": {},
   "source": [
    "### Section 2.4: <a class=\"anchor\" id=\"section_2_4\"></a> Display Data"
   ]
  },
  {
   "cell_type": "code",
   "execution_count": 22,
   "id": "2c63ff85",
   "metadata": {},
   "outputs": [
    {
     "data": {
      "text/html": [
       "<div>\n",
       "<style scoped>\n",
       "    .dataframe tbody tr th:only-of-type {\n",
       "        vertical-align: middle;\n",
       "    }\n",
       "\n",
       "    .dataframe tbody tr th {\n",
       "        vertical-align: top;\n",
       "    }\n",
       "\n",
       "    .dataframe thead th {\n",
       "        text-align: right;\n",
       "    }\n",
       "</style>\n",
       "<table border=\"1\" class=\"dataframe\">\n",
       "  <thead>\n",
       "    <tr style=\"text-align: right;\">\n",
       "      <th></th>\n",
       "      <th>description</th>\n",
       "      <th>subcategory</th>\n",
       "      <th>category</th>\n",
       "      <th>country</th>\n",
       "      <th>currency</th>\n",
       "      <th>deadline</th>\n",
       "      <th>id</th>\n",
       "      <th>launched_date</th>\n",
       "      <th>name</th>\n",
       "      <th>state</th>\n",
       "      <th>duration</th>\n",
       "      <th>goal</th>\n",
       "      <th>launched_day</th>\n",
       "      <th>launched_month</th>\n",
       "      <th>launched_year</th>\n",
       "      <th>name_length</th>\n",
       "      <th>description_length</th>\n",
       "    </tr>\n",
       "  </thead>\n",
       "  <tbody>\n",
       "    <tr>\n",
       "      <th>0</th>\n",
       "      <td>Bringing deliciously fresh snacking to every g...</td>\n",
       "      <td>Food Trucks</td>\n",
       "      <td>Food</td>\n",
       "      <td>US</td>\n",
       "      <td>USD</td>\n",
       "      <td>2016-01-27</td>\n",
       "      <td>1124922936</td>\n",
       "      <td>2015-12-28</td>\n",
       "      <td>Palmetto Pork Skins</td>\n",
       "      <td>0</td>\n",
       "      <td>4</td>\n",
       "      <td>25000.0000</td>\n",
       "      <td>28</td>\n",
       "      <td>12</td>\n",
       "      <td>2015</td>\n",
       "      <td>19</td>\n",
       "      <td>109</td>\n",
       "    </tr>\n",
       "    <tr>\n",
       "      <th>1</th>\n",
       "      <td>Warm hands and full access to your camera dial...</td>\n",
       "      <td>Camera Equipment</td>\n",
       "      <td>Technology</td>\n",
       "      <td>NO</td>\n",
       "      <td>NOK</td>\n",
       "      <td>2015-12-28</td>\n",
       "      <td>1479488174</td>\n",
       "      <td>2015-11-26</td>\n",
       "      <td>Photography Gloves: Extend your session in style</td>\n",
       "      <td>1</td>\n",
       "      <td>4</td>\n",
       "      <td>13908.9960</td>\n",
       "      <td>26</td>\n",
       "      <td>11</td>\n",
       "      <td>2015</td>\n",
       "      <td>48</td>\n",
       "      <td>123</td>\n",
       "    </tr>\n",
       "    <tr>\n",
       "      <th>4</th>\n",
       "      <td>Inspiring girls &amp; young women. Join me as I cr...</td>\n",
       "      <td>Graphic Design</td>\n",
       "      <td>Design</td>\n",
       "      <td>AU</td>\n",
       "      <td>AUD</td>\n",
       "      <td>2016-08-25</td>\n",
       "      <td>1113925398</td>\n",
       "      <td>2016-07-25</td>\n",
       "      <td>Women's Gold Medalists Rio 2016</td>\n",
       "      <td>1</td>\n",
       "      <td>4</td>\n",
       "      <td>37935.0295</td>\n",
       "      <td>25</td>\n",
       "      <td>7</td>\n",
       "      <td>2016</td>\n",
       "      <td>31</td>\n",
       "      <td>133</td>\n",
       "    </tr>\n",
       "    <tr>\n",
       "      <th>6</th>\n",
       "      <td>Una aplicación para que el usuario organice di...</td>\n",
       "      <td>Apps</td>\n",
       "      <td>Technology</td>\n",
       "      <td>MX</td>\n",
       "      <td>MXN</td>\n",
       "      <td>2020-10-22</td>\n",
       "      <td>2045143632</td>\n",
       "      <td>2020-09-07</td>\n",
       "      <td>FUNDAY</td>\n",
       "      <td>0</td>\n",
       "      <td>6</td>\n",
       "      <td>4037.1552</td>\n",
       "      <td>7</td>\n",
       "      <td>9</td>\n",
       "      <td>2020</td>\n",
       "      <td>6</td>\n",
       "      <td>120</td>\n",
       "    </tr>\n",
       "    <tr>\n",
       "      <th>9</th>\n",
       "      <td>Wooden HEZ is going on a tour of the Deep Sout...</td>\n",
       "      <td>Rock</td>\n",
       "      <td>Music</td>\n",
       "      <td>US</td>\n",
       "      <td>USD</td>\n",
       "      <td>2013-04-13</td>\n",
       "      <td>1789057014</td>\n",
       "      <td>2013-03-14</td>\n",
       "      <td>Wooden HEZ's Southern HEZpitality Tour 2013</td>\n",
       "      <td>1</td>\n",
       "      <td>4</td>\n",
       "      <td>600.0000</td>\n",
       "      <td>14</td>\n",
       "      <td>3</td>\n",
       "      <td>2013</td>\n",
       "      <td>43</td>\n",
       "      <td>113</td>\n",
       "    </tr>\n",
       "  </tbody>\n",
       "</table>\n",
       "</div>"
      ],
      "text/plain": [
       "                                         description       subcategory  \\\n",
       "0  Bringing deliciously fresh snacking to every g...       Food Trucks   \n",
       "1  Warm hands and full access to your camera dial...  Camera Equipment   \n",
       "4  Inspiring girls & young women. Join me as I cr...    Graphic Design   \n",
       "6  Una aplicación para que el usuario organice di...              Apps   \n",
       "9  Wooden HEZ is going on a tour of the Deep Sout...              Rock   \n",
       "\n",
       "     category country currency   deadline          id launched_date  \\\n",
       "0        Food      US      USD 2016-01-27  1124922936    2015-12-28   \n",
       "1  Technology      NO      NOK 2015-12-28  1479488174    2015-11-26   \n",
       "4      Design      AU      AUD 2016-08-25  1113925398    2016-07-25   \n",
       "6  Technology      MX      MXN 2020-10-22  2045143632    2020-09-07   \n",
       "9       Music      US      USD 2013-04-13  1789057014    2013-03-14   \n",
       "\n",
       "                                               name  state  duration  \\\n",
       "0                               Palmetto Pork Skins      0         4   \n",
       "1  Photography Gloves: Extend your session in style      1         4   \n",
       "4                   Women's Gold Medalists Rio 2016      1         4   \n",
       "6                                            FUNDAY      0         6   \n",
       "9       Wooden HEZ's Southern HEZpitality Tour 2013      1         4   \n",
       "\n",
       "         goal  launched_day  launched_month  launched_year  name_length  \\\n",
       "0  25000.0000            28              12           2015           19   \n",
       "1  13908.9960            26              11           2015           48   \n",
       "4  37935.0295            25               7           2016           31   \n",
       "6   4037.1552             7               9           2020            6   \n",
       "9    600.0000            14               3           2013           43   \n",
       "\n",
       "   description_length  \n",
       "0                 109  \n",
       "1                 123  \n",
       "4                 133  \n",
       "6                 120  \n",
       "9                 113  "
      ]
     },
     "execution_count": 22,
     "metadata": {},
     "output_type": "execute_result"
    },
    {
     "name": "stdout",
     "output_type": "stream",
     "text": [
      "<class 'pandas.core.frame.DataFrame'>\n",
      "Int64Index: 165728 entries, 0 to 241046\n",
      "Data columns (total 17 columns):\n",
      " #   Column              Non-Null Count   Dtype         \n",
      "---  ------              --------------   -----         \n",
      " 0   description         165728 non-null  object        \n",
      " 1   subcategory         165728 non-null  object        \n",
      " 2   category            165728 non-null  object        \n",
      " 3   country             165728 non-null  object        \n",
      " 4   currency            165728 non-null  object        \n",
      " 5   deadline            165728 non-null  datetime64[ns]\n",
      " 6   id                  165728 non-null  int64         \n",
      " 7   launched_date       165728 non-null  datetime64[ns]\n",
      " 8   name                165728 non-null  object        \n",
      " 9   state               165728 non-null  int64         \n",
      " 10  duration            165728 non-null  int64         \n",
      " 11  goal                165728 non-null  float64       \n",
      " 12  launched_day        165728 non-null  int64         \n",
      " 13  launched_month      165728 non-null  int64         \n",
      " 14  launched_year       165728 non-null  int64         \n",
      " 15  name_length         165728 non-null  int64         \n",
      " 16  description_length  165728 non-null  int64         \n",
      "dtypes: datetime64[ns](2), float64(1), int64(8), object(6)\n",
      "memory usage: 22.8+ MB\n"
     ]
    }
   ],
   "source": [
    "# Displaying the dataframe used for visualisations\n",
    "df.head()\n",
    "df.info()"
   ]
  },
  {
   "cell_type": "markdown",
   "id": "367f9fd5",
   "metadata": {},
   "source": [
    "# Chapter 3: <a class=\"anchor\" id=\"chapter3\"></a> Explanatory Data Analysis"
   ]
  },
  {
   "cell_type": "markdown",
   "id": "84c7f85c",
   "metadata": {},
   "source": [
    "### Section 3.1: <a class=\"anchor\" id=\"section_3_1\"></a> Numerical features statistics"
   ]
  },
  {
   "cell_type": "markdown",
   "id": "14eeb5e3",
   "metadata": {},
   "source": [
    "**Checking outliers in numerical columns**"
   ]
  },
  {
   "cell_type": "code",
   "execution_count": 25,
   "id": "9af6f57c",
   "metadata": {},
   "outputs": [
    {
     "data": {
      "image/png": "[encoded data removed]",
      "text/plain": [
       "<Figure size 576x576 with 6 Axes>"
      ]
     },
     "metadata": {
      "needs_background": "light"
     },
     "output_type": "display_data"
    }
   ],
   "source": [
    "# Setting the figure\n",
    "plt.figure(figsize=(8,8))\n",
    "\n",
    "# Subplots for the statistics of name_length\n",
    "plt.subplot(3,2,1)\n",
    "sns.distplot(df['name_length'],color='#2A7AB9')\n",
    "plt.title('Name Length distribution')\n",
    "plt.subplot(3,2,2)\n",
    "sns.boxplot(df['name_length'],color='#2A7AB9')\n",
    "plt.title('Name Length Interquantile range')\n",
    "\n",
    "# Subplots for the statistics of description_length\n",
    "plt.subplot(3,2,3)\n",
    "sns.distplot(df['description_length'],color='#2A7AB9')\n",
    "plt.title('Description Length distribution')\n",
    "plt.subplot(3,2,4)\n",
    "sns.boxplot(df['description_length'],color='#2A7AB9')\n",
    "plt.title('Description Length Interquantile range')\n",
    "\n",
    "# Subplots for the statistics of goal\n",
    "plt.subplot(3,2,5)\n",
    "sns.distplot(df['goal'],color='#2A7AB9')\n",
    "plt.title('Goal distribution')\n",
    "plt.subplot(3,2,6)\n",
    "sns.boxplot(df['goal'],color='#2A7AB9')\n",
    "plt.title('Goal Interquantile range')\n",
    "plt.tight_layout()\n",
    "plt.show();"
   ]
  },
  {
   "cell_type": "markdown",
   "id": "bce2378e",
   "metadata": {},
   "source": [
    "**Outliers statistics:**"
   ]
  },
  {
   "cell_type": "code",
   "execution_count": 26,
   "id": "0a7ac7d7",
   "metadata": {},
   "outputs": [
    {
     "name": "stdout",
     "output_type": "stream",
     "text": [
      "Number of name_length outliers:\n"
     ]
    },
    {
     "data": {
      "text/plain": [
       "50"
      ]
     },
     "execution_count": 26,
     "metadata": {},
     "output_type": "execute_result"
    },
    {
     "name": "stdout",
     "output_type": "stream",
     "text": [
      "Number of description_length outliers:\n"
     ]
    },
    {
     "data": {
      "text/plain": [
       "1137"
      ]
     },
     "execution_count": 26,
     "metadata": {},
     "output_type": "execute_result"
    },
    {
     "name": "stdout",
     "output_type": "stream",
     "text": [
      "Number of goal outliers:\n"
     ]
    },
    {
     "data": {
      "text/plain": [
       "155"
      ]
     },
     "execution_count": 26,
     "metadata": {},
     "output_type": "execute_result"
    }
   ],
   "source": [
    "# Calculating boundary values for numerical features\n",
    "name_length_upper_limit = df['name_length'].mean() + 3*df['name_length'].std()\n",
    "name_length_lower_limit = df['name_length'].mean() - 3*df['name_length'].std()\n",
    "\n",
    "description_length_upper_limit = df['description_length'].mean() + 3*df['description_length'].std()\n",
    "description_length_lower_limit = df['description_length'].mean() - 3*df['description_length'].std()\n",
    "\n",
    "goal_upper_limit = df['goal'].mean() + 3*df['goal'].std()\n",
    "goal_lower_limit = df['goal'].mean() - 3*df['goal'].std()\n",
    "\n",
    "# Finding number of outliers of duration and description_length\n",
    "print('Number of name_length outliers:')\n",
    "df[(df['name_length'] > name_length_upper_limit) | (df['name_length'] < name_length_lower_limit)]['id'].count()\n",
    "print('Number of description_length outliers:')\n",
    "df[(df['description_length'] > description_length_upper_limit) | (df['description_length'] < description_length_lower_limit)]['id'].count()\n",
    "print('Number of goal outliers:')\n",
    "df[(df['goal'] > goal_upper_limit) | (df['goal'] < goal_lower_limit)]['id'].count()"
   ]
  },
  {
   "cell_type": "code",
   "execution_count": 27,
   "id": "2b1a3969",
   "metadata": {},
   "outputs": [
    {
     "data": {
      "text/html": [
       "<div>\n",
       "<style scoped>\n",
       "    .dataframe tbody tr th:only-of-type {\n",
       "        vertical-align: middle;\n",
       "    }\n",
       "\n",
       "    .dataframe tbody tr th {\n",
       "        vertical-align: top;\n",
       "    }\n",
       "\n",
       "    .dataframe thead th {\n",
       "        text-align: right;\n",
       "    }\n",
       "</style>\n",
       "<table border=\"1\" class=\"dataframe\">\n",
       "  <thead>\n",
       "    <tr style=\"text-align: right;\">\n",
       "      <th></th>\n",
       "      <th>description</th>\n",
       "      <th>subcategory</th>\n",
       "      <th>category</th>\n",
       "      <th>country</th>\n",
       "      <th>currency</th>\n",
       "      <th>deadline</th>\n",
       "      <th>id</th>\n",
       "      <th>launched_date</th>\n",
       "      <th>name</th>\n",
       "      <th>state</th>\n",
       "      <th>duration</th>\n",
       "      <th>goal</th>\n",
       "      <th>launched_day</th>\n",
       "      <th>launched_month</th>\n",
       "      <th>launched_year</th>\n",
       "      <th>name_length</th>\n",
       "      <th>description_length</th>\n",
       "    </tr>\n",
       "  </thead>\n",
       "  <tbody>\n",
       "    <tr>\n",
       "      <th>31</th>\n",
       "      <td>Conscious musicians</td>\n",
       "      <td>World Music</td>\n",
       "      <td>Music</td>\n",
       "      <td>US</td>\n",
       "      <td>USD</td>\n",
       "      <td>2013-01-30</td>\n",
       "      <td>1689659975</td>\n",
       "      <td>2012-12-31</td>\n",
       "      <td>Planting The Seeds</td>\n",
       "      <td>0</td>\n",
       "      <td>4</td>\n",
       "      <td>10000.000000</td>\n",
       "      <td>31</td>\n",
       "      <td>12</td>\n",
       "      <td>2012</td>\n",
       "      <td>18</td>\n",
       "      <td>19</td>\n",
       "    </tr>\n",
       "    <tr>\n",
       "      <th>709</th>\n",
       "      <td>Do Good. Feel Better</td>\n",
       "      <td>Apps</td>\n",
       "      <td>Technology</td>\n",
       "      <td>CA</td>\n",
       "      <td>CAD</td>\n",
       "      <td>2020-08-06</td>\n",
       "      <td>1921383602</td>\n",
       "      <td>2020-07-02</td>\n",
       "      <td>Good Deeds: 100% Free Web &amp; Mobile Sharing App</td>\n",
       "      <td>0</td>\n",
       "      <td>5</td>\n",
       "      <td>53551.060884</td>\n",
       "      <td>2</td>\n",
       "      <td>7</td>\n",
       "      <td>2020</td>\n",
       "      <td>46</td>\n",
       "      <td>20</td>\n",
       "    </tr>\n",
       "    <tr>\n",
       "      <th>975</th>\n",
       "      <td>Fortunate the movie</td>\n",
       "      <td>Romance</td>\n",
       "      <td>Film &amp; Video</td>\n",
       "      <td>US</td>\n",
       "      <td>USD</td>\n",
       "      <td>2015-10-11</td>\n",
       "      <td>1532778027</td>\n",
       "      <td>2015-08-31</td>\n",
       "      <td>FORTUNATE</td>\n",
       "      <td>0</td>\n",
       "      <td>5</td>\n",
       "      <td>10000.000000</td>\n",
       "      <td>31</td>\n",
       "      <td>8</td>\n",
       "      <td>2015</td>\n",
       "      <td>9</td>\n",
       "      <td>19</td>\n",
       "    </tr>\n",
       "    <tr>\n",
       "      <th>984</th>\n",
       "      <td>Tiling Puzzle</td>\n",
       "      <td>Puzzles</td>\n",
       "      <td>Games</td>\n",
       "      <td>AU</td>\n",
       "      <td>AUD</td>\n",
       "      <td>2019-03-08</td>\n",
       "      <td>893084987</td>\n",
       "      <td>2019-01-07</td>\n",
       "      <td>MindSharp</td>\n",
       "      <td>0</td>\n",
       "      <td>8</td>\n",
       "      <td>45522.035400</td>\n",
       "      <td>7</td>\n",
       "      <td>1</td>\n",
       "      <td>2019</td>\n",
       "      <td>9</td>\n",
       "      <td>13</td>\n",
       "    </tr>\n",
       "    <tr>\n",
       "      <th>1120</th>\n",
       "      <td>NOW!</td>\n",
       "      <td>Puzzles</td>\n",
       "      <td>Games</td>\n",
       "      <td>GB</td>\n",
       "      <td>GBP</td>\n",
       "      <td>2015-10-16</td>\n",
       "      <td>1184885399</td>\n",
       "      <td>2015-09-16</td>\n",
       "      <td>Ganjanapoli: Automatic for the pigeon</td>\n",
       "      <td>1</td>\n",
       "      <td>4</td>\n",
       "      <td>18.956473</td>\n",
       "      <td>16</td>\n",
       "      <td>9</td>\n",
       "      <td>2015</td>\n",
       "      <td>37</td>\n",
       "      <td>4</td>\n",
       "    </tr>\n",
       "  </tbody>\n",
       "</table>\n",
       "</div>"
      ],
      "text/plain": [
       "               description  subcategory      category country currency  \\\n",
       "31     Conscious musicians  World Music         Music      US      USD   \n",
       "709   Do Good. Feel Better         Apps    Technology      CA      CAD   \n",
       "975    Fortunate the movie      Romance  Film & Video      US      USD   \n",
       "984          Tiling Puzzle      Puzzles         Games      AU      AUD   \n",
       "1120                  NOW!      Puzzles         Games      GB      GBP   \n",
       "\n",
       "       deadline          id launched_date  \\\n",
       "31   2013-01-30  1689659975    2012-12-31   \n",
       "709  2020-08-06  1921383602    2020-07-02   \n",
       "975  2015-10-11  1532778027    2015-08-31   \n",
       "984  2019-03-08   893084987    2019-01-07   \n",
       "1120 2015-10-16  1184885399    2015-09-16   \n",
       "\n",
       "                                                name  state  duration  \\\n",
       "31                                Planting The Seeds      0         4   \n",
       "709   Good Deeds: 100% Free Web & Mobile Sharing App      0         5   \n",
       "975                                        FORTUNATE      0         5   \n",
       "984                                        MindSharp      0         8   \n",
       "1120           Ganjanapoli: Automatic for the pigeon      1         4   \n",
       "\n",
       "              goal  launched_day  launched_month  launched_year  name_length  \\\n",
       "31    10000.000000            31              12           2012           18   \n",
       "709   53551.060884             2               7           2020           46   \n",
       "975   10000.000000            31               8           2015            9   \n",
       "984   45522.035400             7               1           2019            9   \n",
       "1120     18.956473            16               9           2015           37   \n",
       "\n",
       "      description_length  \n",
       "31                    19  \n",
       "709                   20  \n",
       "975                   19  \n",
       "984                   13  \n",
       "1120                   4  "
      ]
     },
     "execution_count": 27,
     "metadata": {},
     "output_type": "execute_result"
    }
   ],
   "source": [
    "# Checking the description_length outliers\n",
    "df[(df['description_length'] > description_length_upper_limit) | (df['description_length'] < description_length_lower_limit)].head(5)"
   ]
  },
  {
   "cell_type": "markdown",
   "id": "67762c5f",
   "metadata": {},
   "source": [
    "\n",
    "It seems like the main part have a very small description. But again, they do not seem to be computation mistakes so we can keep them as they are."
   ]
  },
  {
   "cell_type": "code",
   "execution_count": 28,
   "id": "d71b4c77",
   "metadata": {},
   "outputs": [
    {
     "data": {
      "text/html": [
       "<div>\n",
       "<style scoped>\n",
       "    .dataframe tbody tr th:only-of-type {\n",
       "        vertical-align: middle;\n",
       "    }\n",
       "\n",
       "    .dataframe tbody tr th {\n",
       "        vertical-align: top;\n",
       "    }\n",
       "\n",
       "    .dataframe thead th {\n",
       "        text-align: right;\n",
       "    }\n",
       "</style>\n",
       "<table border=\"1\" class=\"dataframe\">\n",
       "  <thead>\n",
       "    <tr style=\"text-align: right;\">\n",
       "      <th></th>\n",
       "      <th>description</th>\n",
       "      <th>subcategory</th>\n",
       "      <th>category</th>\n",
       "      <th>country</th>\n",
       "      <th>currency</th>\n",
       "      <th>deadline</th>\n",
       "      <th>id</th>\n",
       "      <th>launched_date</th>\n",
       "      <th>name</th>\n",
       "      <th>state</th>\n",
       "      <th>duration</th>\n",
       "      <th>goal</th>\n",
       "      <th>launched_day</th>\n",
       "      <th>launched_month</th>\n",
       "      <th>launched_year</th>\n",
       "      <th>name_length</th>\n",
       "      <th>description_length</th>\n",
       "    </tr>\n",
       "  </thead>\n",
       "  <tbody>\n",
       "    <tr>\n",
       "      <th>4149</th>\n",
       "      <td>I want this city to advance the future in an o...</td>\n",
       "      <td>Robots</td>\n",
       "      <td>Technology</td>\n",
       "      <td>US</td>\n",
       "      <td>USD</td>\n",
       "      <td>2015-06-12</td>\n",
       "      <td>725167743</td>\n",
       "      <td>2015-04-13</td>\n",
       "      <td>Buy Valle Piola</td>\n",
       "      <td>0</td>\n",
       "      <td>8</td>\n",
       "      <td>5.000000e+06</td>\n",
       "      <td>13</td>\n",
       "      <td>4</td>\n",
       "      <td>2015</td>\n",
       "      <td>15</td>\n",
       "      <td>93</td>\n",
       "    </tr>\n",
       "    <tr>\n",
       "      <th>4208</th>\n",
       "      <td>7th Leadership Organization a organization tha...</td>\n",
       "      <td>Robots</td>\n",
       "      <td>Technology</td>\n",
       "      <td>US</td>\n",
       "      <td>USD</td>\n",
       "      <td>2015-09-23</td>\n",
       "      <td>6538220</td>\n",
       "      <td>2015-08-24</td>\n",
       "      <td>Construction of Gundam 01</td>\n",
       "      <td>0</td>\n",
       "      <td>4</td>\n",
       "      <td>2.500000e+07</td>\n",
       "      <td>24</td>\n",
       "      <td>8</td>\n",
       "      <td>2015</td>\n",
       "      <td>25</td>\n",
       "      <td>134</td>\n",
       "    </tr>\n",
       "    <tr>\n",
       "      <th>5252</th>\n",
       "      <td>The Presidential Yacht Williamsburg is rusting...</td>\n",
       "      <td>Public Art</td>\n",
       "      <td>Art</td>\n",
       "      <td>US</td>\n",
       "      <td>USD</td>\n",
       "      <td>2015-10-27</td>\n",
       "      <td>1656648684</td>\n",
       "      <td>2015-09-27</td>\n",
       "      <td>Save the Williamsburg</td>\n",
       "      <td>0</td>\n",
       "      <td>4</td>\n",
       "      <td>4.000000e+07</td>\n",
       "      <td>27</td>\n",
       "      <td>9</td>\n",
       "      <td>2015</td>\n",
       "      <td>21</td>\n",
       "      <td>125</td>\n",
       "    </tr>\n",
       "    <tr>\n",
       "      <th>8550</th>\n",
       "      <td>My wife Andrea and I, Michael Kammerhofer want...</td>\n",
       "      <td>Restaurants</td>\n",
       "      <td>Food</td>\n",
       "      <td>CH</td>\n",
       "      <td>CHF</td>\n",
       "      <td>2015-10-05</td>\n",
       "      <td>219702078</td>\n",
       "      <td>2015-08-06</td>\n",
       "      <td>Kitchen from Austria in Switzerland</td>\n",
       "      <td>0</td>\n",
       "      <td>8</td>\n",
       "      <td>1.129614e+08</td>\n",
       "      <td>6</td>\n",
       "      <td>8</td>\n",
       "      <td>2015</td>\n",
       "      <td>35</td>\n",
       "      <td>132</td>\n",
       "    </tr>\n",
       "    <tr>\n",
       "      <th>9297</th>\n",
       "      <td>Dream of a farm where the food grown is GIVEN ...</td>\n",
       "      <td>Farms</td>\n",
       "      <td>Food</td>\n",
       "      <td>AU</td>\n",
       "      <td>AUD</td>\n",
       "      <td>2014-12-08</td>\n",
       "      <td>997671931</td>\n",
       "      <td>2014-11-24</td>\n",
       "      <td>Food for FREE</td>\n",
       "      <td>0</td>\n",
       "      <td>2</td>\n",
       "      <td>3.403349e+06</td>\n",
       "      <td>24</td>\n",
       "      <td>11</td>\n",
       "      <td>2014</td>\n",
       "      <td>13</td>\n",
       "      <td>111</td>\n",
       "    </tr>\n",
       "  </tbody>\n",
       "</table>\n",
       "</div>"
      ],
      "text/plain": [
       "                                            description  subcategory  \\\n",
       "4149  I want this city to advance the future in an o...       Robots   \n",
       "4208  7th Leadership Organization a organization tha...       Robots   \n",
       "5252  The Presidential Yacht Williamsburg is rusting...   Public Art   \n",
       "8550  My wife Andrea and I, Michael Kammerhofer want...  Restaurants   \n",
       "9297  Dream of a farm where the food grown is GIVEN ...        Farms   \n",
       "\n",
       "        category country currency   deadline          id launched_date  \\\n",
       "4149  Technology      US      USD 2015-06-12   725167743    2015-04-13   \n",
       "4208  Technology      US      USD 2015-09-23     6538220    2015-08-24   \n",
       "5252         Art      US      USD 2015-10-27  1656648684    2015-09-27   \n",
       "8550        Food      CH      CHF 2015-10-05   219702078    2015-08-06   \n",
       "9297        Food      AU      AUD 2014-12-08   997671931    2014-11-24   \n",
       "\n",
       "                                     name  state  duration          goal  \\\n",
       "4149                      Buy Valle Piola      0         8  5.000000e+06   \n",
       "4208            Construction of Gundam 01      0         4  2.500000e+07   \n",
       "5252                Save the Williamsburg      0         4  4.000000e+07   \n",
       "8550  Kitchen from Austria in Switzerland      0         8  1.129614e+08   \n",
       "9297                        Food for FREE      0         2  3.403349e+06   \n",
       "\n",
       "      launched_day  launched_month  launched_year  name_length  \\\n",
       "4149            13               4           2015           15   \n",
       "4208            24               8           2015           25   \n",
       "5252            27               9           2015           21   \n",
       "8550             6               8           2015           35   \n",
       "9297            24              11           2014           13   \n",
       "\n",
       "      description_length  \n",
       "4149                  93  \n",
       "4208                 134  \n",
       "5252                 125  \n",
       "8550                 132  \n",
       "9297                 111  "
      ]
     },
     "execution_count": 28,
     "metadata": {},
     "output_type": "execute_result"
    }
   ],
   "source": [
    "# Checking the goal outliers\n",
    "df[(df['goal'] > goal_upper_limit) | (df['goal'] < goal_lower_limit)].head()"
   ]
  },
  {
   "cell_type": "markdown",
   "id": "705ccf59",
   "metadata": {},
   "source": [
    "The figures for the goal outliers seem very extreme. Some of them seem to be computation mistakes (e.g. \"A cookbook full of grandmas favorite dishes!\" with a goal of $5000000.0. As a result, they might mislead the models later on. In this case, we will drop these columns."
   ]
  },
  {
   "cell_type": "code",
   "execution_count": 30,
   "id": "0cefd35b",
   "metadata": {},
   "outputs": [],
   "source": [
    "# Getting rid of goal outliers\n",
    "df = df[(df['goal'] < goal_upper_limit) & (df['goal'] > goal_lower_limit)]"
   ]
  },
  {
   "cell_type": "code",
   "execution_count": 31,
   "id": "b89b211e",
   "metadata": {},
   "outputs": [
    {
     "data": {
      "image/png": "[encoded data removed]",
      "text/plain": [
       "<Figure size 576x216 with 2 Axes>"
      ]
     },
     "metadata": {
      "needs_background": "light"
     },
     "output_type": "display_data"
    }
   ],
   "source": [
    "# Setting the figure\n",
    "plt.figure(figsize=(8,3))\n",
    "\n",
    "# Checking the shape of the goal feature\n",
    "plt.subplot(1,2,1)\n",
    "sns.distplot(df['goal'],color='#2A7AB9')\n",
    "plt.title('Goal distribution')\n",
    "plt.subplot(1,2,2)\n",
    "sns.boxplot(df['goal'],color='#2A7AB9')\n",
    "plt.title('Goal Interquantile range')\n",
    "plt.tight_layout()\n",
    "plt.show();"
   ]
  },
  {
   "cell_type": "markdown",
   "id": "ccc53b8d",
   "metadata": {},
   "source": [
    "The goal feature still looks very skewed. This issue could be solved by taking the log of the feature. "
   ]
  },
  {
   "cell_type": "code",
   "execution_count": 32,
   "id": "d8b42704",
   "metadata": {},
   "outputs": [],
   "source": [
    "# Creating a log version of the goal\n",
    "df['log_goal'] = np.log10(df['goal'])"
   ]
  },
  {
   "cell_type": "code",
   "execution_count": 34,
   "id": "a65ece8d",
   "metadata": {},
   "outputs": [
    {
     "data": {
      "image/png": "[encoded data removed]",
      "text/plain": [
       "<Figure size 720x216 with 2 Axes>"
      ]
     },
     "metadata": {
      "needs_background": "light"
     },
     "output_type": "display_data"
    }
   ],
   "source": [
    "# Setting the figure\n",
    "plt.figure(figsize=(10,3))\n",
    "\n",
    "# Rechecking the shape of the goal feature\n",
    "plt.subplot(1,2,1)\n",
    "sns.distplot(df['log_goal'],color='#2A7AB9')\n",
    "plt.title('Goal distribution')\n",
    "plt.subplot(1,2,2)\n",
    "sns.boxplot(df['log_goal'],color='#2A7AB9')\n",
    "plt.title('Goal Interquantile range')\n",
    "plt.tight_layout()\n",
    "plt.show();"
   ]
  },
  {
   "cell_type": "markdown",
   "id": "39fbe387",
   "metadata": {},
   "source": [
    "### Section 3.2: <a class=\"anchor\" id=\"section_3_2\"></a> Festures insights in respect to the target variable"
   ]
  },
  {
   "cell_type": "markdown",
   "id": "89c9c2aa",
   "metadata": {},
   "source": [
    "**Timeframe**"
   ]
  },
  {
   "cell_type": "code",
   "execution_count": 35,
   "id": "ecb335ce",
   "metadata": {
    "scrolled": false
   },
   "outputs": [],
   "source": [
    "# Displaying time data on a quaterly basis to be able to plot the number of campaigns launched over time\n",
    "df['launched_date_quarter'] = pd.PeriodIndex(df.launched_date, freq='Q')"
   ]
  },
  {
   "cell_type": "code",
   "execution_count": 36,
   "id": "32deb43d",
   "metadata": {},
   "outputs": [
    {
     "data": {
      "image/png": "[encoded data removed]",
      "text/plain": [
       "<Figure size 720x360 with 1 Axes>"
      ]
     },
     "metadata": {
      "needs_background": "light"
     },
     "output_type": "display_data"
    }
   ],
   "source": [
    "# Setting the figure\n",
    "plt.figure(figsize=(10,5))\n",
    "\n",
    "sns.countplot(data=df.sort_values('launched_date_quarter'),x='launched_date_quarter',color='#2A7AB9',alpha=0.8)\n",
    "plt.xticks(rotation=45,ha='right',fontsize=8)\n",
    "plt.title(\"Distribution of campaigns launched over time between 2009 and 2021\")\n",
    "plt.tight_layout()\n",
    "plt.show();"
   ]
  },
  {
   "cell_type": "markdown",
   "id": "1d7c2316",
   "metadata": {},
   "source": [
    "The distribution is not even throughout the years. This is due to the sample I fetched, which is not very poor for the period before 2014 and after 2020. Let's focus our analysis on a reliable timeframe : between Q2 2014 and Q4 2020."
   ]
  },
  {
   "cell_type": "code",
   "execution_count": 37,
   "id": "288ca325",
   "metadata": {},
   "outputs": [],
   "source": [
    "# Creating new dataframe with the reliable timeframe\n",
    "start_date = '2014-06-01'\n",
    "end_date = '2020-11-21'\n",
    "new_df = df[(df['launched_date'] > start_date) & (df['launched_date'] <= end_date)]"
   ]
  },
  {
   "cell_type": "code",
   "execution_count": 38,
   "id": "2d3abdb7",
   "metadata": {},
   "outputs": [
    {
     "data": {
      "image/png": "[encoded data removed]",
      "text/plain": [
       "<Figure size 576x360 with 1 Axes>"
      ]
     },
     "metadata": {
      "needs_background": "light"
     },
     "output_type": "display_data"
    }
   ],
   "source": [
    "# Plotting the new dataframe\n",
    "plt.figure(figsize=(8,5))\n",
    "\n",
    "sns.countplot(data=new_df.sort_values('launched_date_quarter'),x='launched_date_quarter',color='#2A7AB9',alpha=0.8)\n",
    "plt.xticks(rotation=45,ha='right')\n",
    "plt.title(\"Distribution of campaigns launched over time between June 2014 and November 2020\")\n",
    "plt.tight_layout()\n",
    "plt.show();"
   ]
  },
  {
   "cell_type": "code",
   "execution_count": 39,
   "id": "074b832b",
   "metadata": {},
   "outputs": [],
   "source": [
    "# Redefining the new dataframe\n",
    "df = new_df"
   ]
  },
  {
   "cell_type": "code",
   "execution_count": 40,
   "id": "e940916f",
   "metadata": {},
   "outputs": [
    {
     "data": {
      "text/plain": [
       "<Figure size 432x288 with 0 Axes>"
      ]
     },
     "metadata": {},
     "output_type": "display_data"
    },
    {
     "data": {
      "image/png": "[encoded data removed]",
      "text/plain": [
       "<Figure size 504x360 with 2 Axes>"
      ]
     },
     "metadata": {
      "needs_background": "light"
     },
     "output_type": "display_data"
    }
   ],
   "source": [
    "# Plotting the distribution of campaigns per months and years\n",
    "fig=plt.figure()\n",
    "figure, axes = plt.subplots(nrows=2,figsize=(7,5))\n",
    "sns.countplot(x='launched_month',data=df, hue='state', palette=['#ABC9EA','#597DBF'], ax = axes[0])\n",
    "sns.countplot(x='launched_year',data=df, hue='state', palette=['#ABC9EA','#597DBF'], ax = axes[1])\n",
    "plt.tight_layout()\n",
    "plt.subplots_adjust(top=0.9)\n",
    "plt.suptitle('Distribution of campaigns per month and per year')\n",
    "plt.show();"
   ]
  },
  {
   "cell_type": "markdown",
   "id": "df32fff5",
   "metadata": {},
   "source": [
    "The proportion of succesful campaigns does not vary a lot depending on the month.\n",
    "And over the years, we can see that the proportion of successful campaigns increases while the proportion of failed campaigns declines. So in this case, since the distribution of both states over the year is opposite, 'launched_year' might be a critical feature for our models."
   ]
  },
  {
   "cell_type": "markdown",
   "id": "7f325935",
   "metadata": {},
   "source": [
    "**Goal**"
   ]
  },
  {
   "cell_type": "code",
   "execution_count": 41,
   "id": "f73b5483",
   "metadata": {},
   "outputs": [
    {
     "data": {
      "image/png": "[encoded data removed]",
      "text/plain": [
       "<Figure size 648x288 with 2 Axes>"
      ]
     },
     "metadata": {
      "needs_background": "light"
     },
     "output_type": "display_data"
    }
   ],
   "source": [
    "# Implementing a figure\n",
    "plt.figure(figsize=(9,4))\n",
    "\n",
    "# Plotting the goal in respect to the target variable\n",
    "plt.subplot(1,2,1)\n",
    "plt.title(\"Successful and failed campaigns average goal\")\n",
    "sns.barplot(data=df, x=\"state\", y=\"goal\",palette=['#ABC9EA','#597DBF'])\n",
    "\n",
    "# Plotting the log of the goal in respect to the target variable\n",
    "plt.subplot(1,2,2)\n",
    "plt.title(\"Successful and failed campaigns average log goal\")\n",
    "sns.barplot(data=df, x=\"state\", y=\"log_goal\",palette=['#ABC9EA','#597DBF'])\n",
    "\n",
    "plt.tight_layout()\n",
    "plt.show();"
   ]
  },
  {
   "cell_type": "markdown",
   "id": "6e31ad64",
   "metadata": {},
   "source": [
    "By relying on the goal and the log of the goal (which penalises extreme values), we can see that successful campaigns have a lower goal than failed campaigns."
   ]
  },
  {
   "cell_type": "markdown",
   "id": "ab508477",
   "metadata": {},
   "source": [
    "**Categories & Subcategories**"
   ]
  },
  {
   "cell_type": "code",
   "execution_count": 42,
   "id": "b3e97ec2",
   "metadata": {
    "scrolled": false
   },
   "outputs": [
    {
     "data": {
      "image/png": "[encoded data removed]",
      "text/plain": [
       "<Figure size 1080x288 with 3 Axes>"
      ]
     },
     "metadata": {
      "needs_background": "light"
     },
     "output_type": "display_data"
    }
   ],
   "source": [
    "# Creating a dataframe with successful campaigns only\n",
    "successful_df = df[df['state']==1]\n",
    "\n",
    "# Top 10 of the most successful categories based on the number of campaigns\n",
    "top_cat = pd.DataFrame(successful_df.groupby(['category'])['id'].count().sort_values(ascending=False)).head(10)\n",
    "\n",
    "# Top 10 of the most successful subcategories based on the number of campaigns\n",
    "top_subcat = pd.DataFrame(successful_df.groupby(['subcategory'])['id'].count().sort_values(ascending=False)).head(10)\n",
    "\n",
    "# Top 10 of the most successful subcategories and the category they are assigned to\n",
    "top_subcat_cat = pd.DataFrame(successful_df.groupby(['subcategory','category'])['id'].count().sort_values(ascending=False)).head(10)\n",
    "top_subcat_cat = top_subcat_cat.reset_index()\n",
    "\n",
    "# Implementing a figure\n",
    "plt.figure(figsize=(15,4))\n",
    "\n",
    "# Plotting top 10 most successful categories\n",
    "plt.subplot(1,3,1)\n",
    "plt.title(\"Top 10 of the most successful categories\")\n",
    "ax = sns.barplot(y=top_cat.index,x=top_cat.id,color=\"#597DBF\",)\n",
    "ax.set_xlabel('count')\n",
    "\n",
    "# Plotting top 10 most successful subcategories\n",
    "plt.subplot(1,3,2)\n",
    "plt.title(\"Top 10 of the most successful subcategories\")\n",
    "ax = sns.barplot(y=top_subcat.index,x=top_subcat.id,color=\"#597DBF\")\n",
    "ax.set_xlabel('count')\n",
    "\n",
    "# Plotting top 10 most successful subcategories in relation to the category they are part of\n",
    "plt.subplot(1,3,3)\n",
    "plt.title(\"Top 10 of the most successful subcategories in\\n relation to the category they belong to\")\n",
    "sns.scatterplot(data=top_subcat_cat,x='category',y='subcategory')\n",
    "\n",
    "plt.tight_layout()\n",
    "plt.show();"
   ]
  },
  {
   "cell_type": "markdown",
   "id": "af7f7709",
   "metadata": {},
   "source": [
    "We can see that the top most successful subcategories belong to the top categories. As a result, there is a positive relationship between these two features together and the success of a campaign. This could potentially help the models to identify successful campaigns."
   ]
  },
  {
   "cell_type": "code",
   "execution_count": 43,
   "id": "e441b9c1",
   "metadata": {
    "scrolled": false
   },
   "outputs": [
    {
     "data": {
      "image/png": "[encoded data removed]",
      "text/plain": [
       "<Figure size 576x360 with 1 Axes>"
      ]
     },
     "metadata": {
      "needs_background": "light"
     },
     "output_type": "display_data"
    }
   ],
   "source": [
    "# set the figure size\n",
    "plt.figure(figsize=(8, 5))\n",
    "\n",
    "# from raw value to percentage\n",
    "total_cat = df.groupby('category')['id'].count().reset_index()\n",
    "success = df[df.state==1].groupby('category')['id'].count().reset_index()\n",
    "success['id'] = [i / j * 100 for i,j in zip(success['id'], total_cat['id'])]\n",
    "total_cat['id'] = [i / j * 100 for i,j in zip(total_cat['id'], total_cat['id'])]\n",
    "\n",
    "# bar chart 1 -> top bars (group of 'failed')\n",
    "bar1 = sns.barplot(y=\"category\",  x=\"id\", data=total_cat, color='#ABC9EA')\n",
    "bar1.set_xlabel('count')\n",
    "\n",
    "# bar chart 2 -> bottom bars (group of 'smoker=Yes')\n",
    "bar2 = sns.barplot(y=\"category\", x=\"id\", data=success, color='#597DBF')\n",
    "bar2.set_xlabel('count')\n",
    "\n",
    "# add legend\n",
    "top_bar = mpatches.Patch(color='#ABC9EA', label=0)\n",
    "bottom_bar = mpatches.Patch(color='#597DBF', label=1)\n",
    "plt.legend(handles=[top_bar, bottom_bar])\n",
    "\n",
    "# add title\n",
    "plt.title('Proportion of successful campaigns per category')\n",
    "\n",
    "# show the graph\n",
    "plt.show();"
   ]
  },
  {
   "cell_type": "markdown",
   "id": "d7dc4989",
   "metadata": {},
   "source": [
    "Although, as seen on the previous graph, the most successful categories in number of campaigns are Film&Video, Music, Publishing and Art, the category with the highest success rate is Comics. As a comparison, the big majority of successful campaigns are Films & Videos but the success rate is mediocre."
   ]
  },
  {
   "cell_type": "markdown",
   "id": "608805a6",
   "metadata": {},
   "source": [
    "**Duration**"
   ]
  },
  {
   "cell_type": "code",
   "execution_count": 44,
   "id": "cd4e52d8",
   "metadata": {},
   "outputs": [
    {
     "data": {
      "image/png": "[encoded data removed]",
      "text/plain": [
       "<Figure size 432x288 with 1 Axes>"
      ]
     },
     "metadata": {
      "needs_background": "light"
     },
     "output_type": "display_data"
    }
   ],
   "source": [
    "# Plotting the duration distribution\n",
    "sns.countplot(x='duration',data=df, hue='state', palette=['#ABC9EA','#597DBF'])\n",
    "plt.title('Duration distribution')\n",
    "plt.show();"
   ]
  },
  {
   "cell_type": "markdown",
   "id": "e5f886ff",
   "metadata": {},
   "source": [
    "The majority of the campaigns last 4 weeks and while the proportion of successful campaigns are pretty even for each duration, it is not the case for campaigns that last 8 weeks, where there is a higher proportion of failed campaigns than successful campaigns."
   ]
  },
  {
   "cell_type": "markdown",
   "id": "c06a5121",
   "metadata": {},
   "source": [
    "**Country & Currency**"
   ]
  },
  {
   "cell_type": "code",
   "execution_count": 45,
   "id": "2d160f95",
   "metadata": {},
   "outputs": [
    {
     "data": {
      "text/plain": [
       "<Figure size 432x288 with 0 Axes>"
      ]
     },
     "metadata": {},
     "output_type": "display_data"
    },
    {
     "data": {
      "image/png": "[encoded data removed]",
      "text/plain": [
       "<Figure size 576x360 with 2 Axes>"
      ]
     },
     "metadata": {
      "needs_background": "light"
     },
     "output_type": "display_data"
    }
   ],
   "source": [
    "# Plotting the distribution of campaigns per months and years\n",
    "fig=plt.figure()\n",
    "figure, axes = plt.subplots(nrows=2,figsize=(8,5))\n",
    "sns.countplot(x='country',data=df, hue='state', palette=['#ABC9EA','#597DBF'], ax = axes[0])\n",
    "sns.countplot(x='currency',data=df, hue='state', palette=['#ABC9EA','#597DBF'], ax = axes[1])\n",
    "plt.tight_layout()\n",
    "plt.subplots_adjust(top=0.9)\n",
    "plt.suptitle('Distribution of campaigns per country and per currency')\n",
    "plt.show();"
   ]
  },
  {
   "cell_type": "markdown",
   "id": "cc8a91fd",
   "metadata": {},
   "source": [
    "As expected, country and currency show very similar distributions, meaning that they are probably highly correlated (we will verify this statement when we will come to the heat map at the end of the chapter).\n",
    "Moreover, while there is a disproportionate number of campaigns coming from the US, the proportion of successful campaigns is pretty even accross countries & currencies. Hence, both currency and country might have a low importance for the models."
   ]
  },
  {
   "cell_type": "markdown",
   "id": "a23e6f18",
   "metadata": {},
   "source": [
    "### Section 3.3: <a class=\"anchor\" id=\"section_3_3\"></a> Correlations and Feature extraction"
   ]
  },
  {
   "cell_type": "markdown",
   "id": "d6e5456f",
   "metadata": {},
   "source": [
    "**Heatmap of the correlation matrix**"
   ]
  },
  {
   "cell_type": "code",
   "execution_count": 46,
   "id": "160c8ae3",
   "metadata": {},
   "outputs": [
    {
     "data": {
      "image/png": "[encoded data removed]",
      "text/plain": [
       "<Figure size 720x720 with 2 Axes>"
      ]
     },
     "metadata": {
      "needs_background": "light"
     },
     "output_type": "display_data"
    }
   ],
   "source": [
    "# Creating a new dataframe to use a LabelEncoder for categorical values without changing the original dataset\n",
    "df_2 = df.copy().drop('id',axis=1)\n",
    "\n",
    "le = preprocessing.LabelEncoder()\n",
    "objects = [\"category\",\"subcategory\",\"currency\",\"state\",\"country\",\"launched_year\"]\n",
    "for i in objects:  \n",
    "    df_2[i] = le.fit_transform(df_2[i])\n",
    "\n",
    "corr = df_2.corr()\n",
    "\n",
    "# Keeping only the lower left triangle of the heatmap\n",
    "mask = np.zeros_like(corr, dtype=np.bool)\n",
    "mask[np.triu_indices_from(mask)] = True\n",
    "\n",
    "# Plotting the heatmap of numerical and categorical features\n",
    "f, ax = plt.subplots(figsize=(10, 10))\n",
    "sns.heatmap(corr, annot=True, mask=mask, cmap='Blues', vmax=.3, center=0,square=True, linewidths=.5, \n",
    "            cbar_kws={\"shrink\": .5},annot_kws={'size': 8})\n",
    "plt.title('Correlation matrix')\n",
    "plt.show();"
   ]
  },
  {
   "cell_type": "markdown",
   "id": "8495fdbf",
   "metadata": {},
   "source": [
    "Overall, the correlations between features are weak. However, the heatmap shows a negative relationship between the state and the log_goal of 26%, which echos with what we saw in the previous section when comparing the goal 7 log goal of successful and failed campaigns."
   ]
  },
  {
   "cell_type": "markdown",
   "id": "5a6e3821",
   "metadata": {},
   "source": [
    "**Feature extraction**"
   ]
  },
  {
   "cell_type": "markdown",
   "id": "062d852f",
   "metadata": {},
   "source": [
    "Final dataframe - used for the modelling"
   ]
  },
  {
   "cell_type": "code",
   "execution_count": 47,
   "id": "1b3782f0",
   "metadata": {},
   "outputs": [],
   "source": [
    "df = df[['name_length','description_length','state','launched_day','launched_month','launched_year',\n",
    "         'duration','goal','category','subcategory','country']]"
   ]
  },
  {
   "cell_type": "markdown",
   "id": "9c4d1669",
   "metadata": {},
   "source": [
    "Note that we are not keeping currency as it is too correlated with country and does not bring significant information to the model. And we are not using the log of the goal in the models since the goal will be scaled during the modelling process."
   ]
  },
  {
   "cell_type": "markdown",
   "id": "d8dc1637",
   "metadata": {},
   "source": [
    "# Chapter 4: <a class=\"anchor\" id=\"chapter4\"></a> Models"
   ]
  },
  {
   "cell_type": "markdown",
   "id": "573e1a98",
   "metadata": {},
   "source": [
    "#### Pre-processing"
   ]
  },
  {
   "cell_type": "code",
   "execution_count": 5,
   "id": "02e46e37",
   "metadata": {},
   "outputs": [],
   "source": [
    "from sklearn.compose import ColumnTransformer\n",
    "from sklearn.preprocessing import OneHotEncoder, LabelEncoder, StandardScaler\n",
    "from sklearn.pipeline import Pipeline\n",
    "\n",
    "# Selecting categorical columns\n",
    "categorical_cols = [\"category\",\"subcategory\",\"country\",\"launched_day\",\"launched_month\",\"launched_year\"]\n",
    "# Selecting numerical columns\n",
    "numerical_cols = [\"duration\",\"goal\",\"name_length\",\"description_length\"]\n",
    "\n",
    "# Preprocessing for categorical data\n",
    "encoder = OneHotEncoder(handle_unknown='ignore', sparse=False)\n",
    "\n",
    "# Preprocessing for numerical data\n",
    "sc = StandardScaler()\n",
    "\n",
    "# Bundle preprocessing for numerical and categorical data\n",
    "preprocessor = ColumnTransformer(\n",
    "    transformers=[\n",
    "        ('num', sc, numerical_cols),\n",
    "        ('cat', encoder, categorical_cols)\n",
    "    ])"
   ]
  },
  {
   "cell_type": "markdown",
   "id": "cb2d84ba",
   "metadata": {},
   "source": [
    "#### Splitting the data"
   ]
  },
  {
   "cell_type": "markdown",
   "id": "a25a318b",
   "metadata": {},
   "source": [
    "We will use a train, validation, test split.\n",
    "- The train set will be used to train the different models. \n",
    "- The validation set, in the first phase, will be used to provide an evaluation of each model with a Validation score which will enable us to choose the best performing model. In the second phase, it will be used to tune the hyperparameters of the model.\n",
    "- The test set will be used to provide an unbiased evaluation of the best final model."
   ]
  },
  {
   "cell_type": "markdown",
   "id": "0a90fde9",
   "metadata": {},
   "source": [
    "Note that we are not using cross validation during the first phase in order to be more time efficient since we are testing multiple models. However, we will be using cross validation for the second phase in case some models overfit the training data."
   ]
  },
  {
   "cell_type": "code",
   "execution_count": 6,
   "id": "4e7693fe",
   "metadata": {},
   "outputs": [],
   "source": [
    "# Setting feature variable and target variable\n",
    "X = df.drop('state',axis=1)\n",
    "y = df['state']"
   ]
  },
  {
   "cell_type": "code",
   "execution_count": 7,
   "id": "1d090ed9",
   "metadata": {},
   "outputs": [],
   "source": [
    "# Defining ratios\n",
    "ratio_train = 0.8\n",
    "ratio_val = 0.1\n",
    "ratio_test = 0.1\n",
    "\n",
    "# Creating test split\n",
    "X_remaining, X_test, y_remaining, y_test = train_test_split(X, y, test_size=ratio_test, random_state=1)\n",
    "\n",
    "# Adjusting validation ratio (remaining dataset)\n",
    "ratio_remaining = 1 - ratio_test\n",
    "ratio_val_adjusted = ratio_val / ratio_remaining\n",
    "\n",
    "# Creating train and validations splits\n",
    "X_train, X_val, y_train, y_val = train_test_split(X_remaining, y_remaining, test_size=ratio_val_adjusted, random_state=1)"
   ]
  },
  {
   "cell_type": "markdown",
   "id": "d1b14df1",
   "metadata": {},
   "source": [
    "### Section 4.1: <a class=\"anchor\" id=\"section_4_1\"></a> Stage 1 - Model exploration"
   ]
  },
  {
   "cell_type": "markdown",
   "id": "333c04cf",
   "metadata": {},
   "source": [
    "In this section, we will use our training set to train different models (with standard parameters) and assess their performance with a validation set."
   ]
  },
  {
   "cell_type": "markdown",
   "id": "ab9e7a73",
   "metadata": {},
   "source": [
    "#### Model 1 - Logistic regression"
   ]
  },
  {
   "cell_type": "code",
   "execution_count": 49,
   "id": "39785a09",
   "metadata": {},
   "outputs": [
    {
     "data": {
      "text/plain": [
       "Pipeline(steps=[('preprocessor',\n",
       "                 ColumnTransformer(transformers=[('num', StandardScaler(),\n",
       "                                                  ['duration', 'goal',\n",
       "                                                   'name_length',\n",
       "                                                   'description_length']),\n",
       "                                                 ('cat',\n",
       "                                                  OneHotEncoder(handle_unknown='ignore',\n",
       "                                                                sparse=False),\n",
       "                                                  ['category', 'subcategory',\n",
       "                                                   'country', 'launched_day',\n",
       "                                                   'launched_month',\n",
       "                                                   'launched_year'])])),\n",
       "                ('model', LogisticRegression(max_iter=500))])"
      ]
     },
     "execution_count": 49,
     "metadata": {},
     "output_type": "execute_result"
    }
   ],
   "source": [
    "# Setting the parameters of the model and fitting in to the train set\n",
    "logmodel = LogisticRegression(solver='lbfgs',max_iter=500)\n",
    "log = Pipeline(steps=[('preprocessor', preprocessor),\n",
    "                      ('model', logmodel)\n",
    "])\n",
    "log.fit(X_train,y_train)"
   ]
  },
  {
   "cell_type": "code",
   "execution_count": 50,
   "id": "334765d0",
   "metadata": {},
   "outputs": [
    {
     "name": "stdout",
     "output_type": "stream",
     "text": [
      "Training score: 0.784329085559695\n",
      "Validation score: 0.788035558146313\n"
     ]
    }
   ],
   "source": [
    "# Measuring accuracy of the model with the training score and the validation score\n",
    "log_train_pred = log.predict(X_train)\n",
    "log_val_pred = log.predict(X_val)\n",
    "\n",
    "score = sklearn.metrics.accuracy_score(y_train,log_train_pred)\n",
    "print('Training score: ' + str(score))\n",
    "\n",
    "score = sklearn.metrics.accuracy_score(y_val,log_val_pred)\n",
    "print('Validation score: ' + str(score))"
   ]
  },
  {
   "cell_type": "code",
   "execution_count": 326,
   "id": "55a2f440",
   "metadata": {},
   "outputs": [
    {
     "name": "stdout",
     "output_type": "stream",
     "text": [
      "Confusion matrix: \n",
      "\n",
      "[[5757 1033]\n",
      " [1876 5058]]\n"
     ]
    }
   ],
   "source": [
    "# Confusion matrix of the model on the validation set\n",
    "print('Confusion matrix: \\n')\n",
    "print(confusion_matrix(y_val,log_val_pred))"
   ]
  },
  {
   "cell_type": "code",
   "execution_count": 327,
   "id": "84579975",
   "metadata": {},
   "outputs": [
    {
     "name": "stdout",
     "output_type": "stream",
     "text": [
      "Classification report: \n",
      "\n",
      "              precision    recall  f1-score   support\n",
      "\n",
      "           0       0.75      0.85      0.80      6790\n",
      "           1       0.83      0.73      0.78      6934\n",
      "\n",
      "    accuracy                           0.79     13724\n",
      "   macro avg       0.79      0.79      0.79     13724\n",
      "weighted avg       0.79      0.79      0.79     13724\n",
      "\n"
     ]
    }
   ],
   "source": [
    "# Classification report of the model on the validation set\n",
    "print('Classification report: \\n')\n",
    "print(classification_report(y_val,log_val_pred))"
   ]
  },
  {
   "cell_type": "markdown",
   "id": "571e52d3",
   "metadata": {},
   "source": [
    "#### Model 2: SVM"
   ]
  },
  {
   "cell_type": "code",
   "execution_count": 346,
   "id": "b04b7fe9",
   "metadata": {},
   "outputs": [
    {
     "data": {
      "text/plain": [
       "Pipeline(steps=[('preprocessor',\n",
       "                 ColumnTransformer(transformers=[('num', StandardScaler(),\n",
       "                                                  ['duration', 'goal',\n",
       "                                                   'name_length',\n",
       "                                                   'description_length']),\n",
       "                                                 ('cat',\n",
       "                                                  OneHotEncoder(handle_unknown='ignore',\n",
       "                                                                sparse=False),\n",
       "                                                  ['category', 'subcategory',\n",
       "                                                   'country', 'launched_day',\n",
       "                                                   'launched_month',\n",
       "                                                   'launched_year'])])),\n",
       "                ('model', SVC())])"
      ]
     },
     "execution_count": 346,
     "metadata": {},
     "output_type": "execute_result"
    }
   ],
   "source": [
    "# Setting up of the SVM model\n",
    "svcmodel = SVC()\n",
    "svc = Pipeline(steps=[('preprocessor', preprocessor),\n",
    "                      ('model', svcmodel)\n",
    "])\n",
    "\n",
    "svc.fit(X_train,y_train)"
   ]
  },
  {
   "cell_type": "code",
   "execution_count": 347,
   "id": "46ffdae1",
   "metadata": {},
   "outputs": [
    {
     "name": "stdout",
     "output_type": "stream",
     "text": [
      "Training score: 0.8417241285080568\n",
      "Validation score: 0.8149227630428446\n"
     ]
    }
   ],
   "source": [
    "# Measuring accuracy of the model with the training score and the validation score\n",
    "svc_train_pred = svc.predict(X_train)\n",
    "svc_val_pred = svc.predict(X_val)\n",
    "\n",
    "score = sklearn.metrics.accuracy_score(y_train,svc_train_pred)\n",
    "print('Training score: ' + str(score))\n",
    "\n",
    "score = sklearn.metrics.accuracy_score(y_val,svc_val_pred)\n",
    "print('Validation score: ' + str(score))"
   ]
  },
  {
   "cell_type": "code",
   "execution_count": 348,
   "id": "7fa15db8",
   "metadata": {},
   "outputs": [
    {
     "name": "stdout",
     "output_type": "stream",
     "text": [
      "Confusion matrix: \n",
      "\n",
      "[[5973  817]\n",
      " [1723 5211]]\n"
     ]
    }
   ],
   "source": [
    "# Confusion matrix of the model on the validation set\n",
    "print('Confusion matrix: \\n')\n",
    "print(confusion_matrix(y_val,svc_val_pred))"
   ]
  },
  {
   "cell_type": "code",
   "execution_count": 349,
   "id": "3fd9b5db",
   "metadata": {},
   "outputs": [
    {
     "name": "stdout",
     "output_type": "stream",
     "text": [
      "Classification report: \n",
      "\n",
      "              precision    recall  f1-score   support\n",
      "\n",
      "           0       0.78      0.88      0.82      6790\n",
      "           1       0.86      0.75      0.80      6934\n",
      "\n",
      "    accuracy                           0.81     13724\n",
      "   macro avg       0.82      0.82      0.81     13724\n",
      "weighted avg       0.82      0.81      0.81     13724\n",
      "\n"
     ]
    }
   ],
   "source": [
    "# Classification report of the model on the validation set\n",
    "print('Classification report: \\n')\n",
    "print(classification_report(y_val,svc_val_pred))"
   ]
  },
  {
   "cell_type": "markdown",
   "id": "ade7ecd7",
   "metadata": {},
   "source": [
    "#### Model 3: Decision Tree"
   ]
  },
  {
   "cell_type": "code",
   "execution_count": 328,
   "id": "a34f09f4",
   "metadata": {},
   "outputs": [
    {
     "data": {
      "text/plain": [
       "Pipeline(steps=[('preprocessor',\n",
       "                 ColumnTransformer(transformers=[('num', StandardScaler(),\n",
       "                                                  ['duration', 'goal',\n",
       "                                                   'name_length',\n",
       "                                                   'description_length']),\n",
       "                                                 ('cat',\n",
       "                                                  OneHotEncoder(handle_unknown='ignore',\n",
       "                                                                sparse=False),\n",
       "                                                  ['category', 'subcategory',\n",
       "                                                   'country', 'launched_day',\n",
       "                                                   'launched_month',\n",
       "                                                   'launched_year'])])),\n",
       "                ('model', DecisionTreeClassifier())])"
      ]
     },
     "execution_count": 328,
     "metadata": {},
     "output_type": "execute_result"
    }
   ],
   "source": [
    "# Setting up the Decision Tree model\n",
    "dtc = DecisionTreeClassifier()\n",
    "dt = Pipeline(steps=[('preprocessor', preprocessor),\n",
    "                      ('model', dtc)\n",
    "])\n",
    "\n",
    "dt.fit(X_train,y_train)"
   ]
  },
  {
   "cell_type": "code",
   "execution_count": 329,
   "id": "696655f0",
   "metadata": {},
   "outputs": [
    {
     "name": "stdout",
     "output_type": "stream",
     "text": [
      "Training score: 1.0\n",
      "Validation score: 0.781769163509181\n"
     ]
    }
   ],
   "source": [
    "# Measuring accuracy of the model with the training score and the validation score\n",
    "dt_train_pred = dt.predict(X_train)\n",
    "dt_val_pred = dt.predict(X_val)\n",
    "\n",
    "score = sklearn.metrics.accuracy_score(y_train,dt_train_pred)\n",
    "print('Training score: ' + str(score))\n",
    "\n",
    "score = sklearn.metrics.accuracy_score(y_val,dt_val_pred)\n",
    "print('Validation score: ' + str(score))"
   ]
  },
  {
   "cell_type": "code",
   "execution_count": 330,
   "id": "7fe5ef2c",
   "metadata": {},
   "outputs": [
    {
     "name": "stdout",
     "output_type": "stream",
     "text": [
      "Confusion matrix: \n",
      "\n",
      "[[5234 1556]\n",
      " [1439 5495]]\n"
     ]
    }
   ],
   "source": [
    "# Confusion matrix of the model on the validation set\n",
    "print('Confusion matrix: \\n')\n",
    "print(confusion_matrix(y_val,dt_val_pred))"
   ]
  },
  {
   "cell_type": "code",
   "execution_count": 331,
   "id": "9f7188a6",
   "metadata": {},
   "outputs": [
    {
     "name": "stdout",
     "output_type": "stream",
     "text": [
      "Classification report: \n",
      "\n",
      "              precision    recall  f1-score   support\n",
      "\n",
      "           0       0.78      0.77      0.78      6790\n",
      "           1       0.78      0.79      0.79      6934\n",
      "\n",
      "    accuracy                           0.78     13724\n",
      "   macro avg       0.78      0.78      0.78     13724\n",
      "weighted avg       0.78      0.78      0.78     13724\n",
      "\n"
     ]
    }
   ],
   "source": [
    "# Classification report of the model on the validation set\n",
    "print('Classification report: \\n')\n",
    "print(classification_report(y_val,dt_val_pred))"
   ]
  },
  {
   "cell_type": "markdown",
   "id": "396f3fb0",
   "metadata": {},
   "source": [
    "#### Model 4: Random Forest"
   ]
  },
  {
   "cell_type": "code",
   "execution_count": 42,
   "id": "4d217823",
   "metadata": {},
   "outputs": [
    {
     "data": {
      "text/plain": [
       "Pipeline(steps=[('preprocessor',\n",
       "                 ColumnTransformer(transformers=[('num', StandardScaler(),\n",
       "                                                  ['duration', 'goal',\n",
       "                                                   'name_length',\n",
       "                                                   'description_length']),\n",
       "                                                 ('cat',\n",
       "                                                  OneHotEncoder(handle_unknown='ignore',\n",
       "                                                                sparse=False),\n",
       "                                                  ['category', 'subcategory',\n",
       "                                                   'country', 'launched_day',\n",
       "                                                   'launched_month',\n",
       "                                                   'launched_year'])])),\n",
       "                ('model', RandomForestClassifier())])"
      ]
     },
     "execution_count": 42,
     "metadata": {},
     "output_type": "execute_result"
    }
   ],
   "source": [
    "# Random Forest Model\n",
    "rfc = RandomForestClassifier(n_estimators=100)\n",
    "rf = Pipeline(steps=[('preprocessor', preprocessor),\n",
    "                      ('model', rfc)\n",
    "])\n",
    "rf.fit(X_train, y_train)"
   ]
  },
  {
   "cell_type": "code",
   "execution_count": 43,
   "id": "be5e3cda",
   "metadata": {},
   "outputs": [
    {
     "name": "stdout",
     "output_type": "stream",
     "text": [
      "Training score: 1.0\n",
      "Validation score: 0.8366365491110463\n"
     ]
    }
   ],
   "source": [
    "# Measuring accuracy of the model with the training score and the validation score\n",
    "rf_train_pred = rf.predict(X_train)\n",
    "rf_val_pred = rf.predict(X_val)\n",
    "\n",
    "score = sklearn.metrics.accuracy_score(y_train,rf_train_pred)\n",
    "print('Training score: ' + str(score))\n",
    "\n",
    "score = sklearn.metrics.accuracy_score(y_val,rf_val_pred)\n",
    "print('Validation score: ' + str(score))"
   ]
  },
  {
   "cell_type": "code",
   "execution_count": 44,
   "id": "76280ac8",
   "metadata": {},
   "outputs": [
    {
     "name": "stdout",
     "output_type": "stream",
     "text": [
      "Confusion matrix: \n",
      "\n",
      "[[5947  843]\n",
      " [1399 5535]]\n"
     ]
    }
   ],
   "source": [
    "# Confusion matrix of the model on the validation set\n",
    "print('Confusion matrix: \\n')\n",
    "print(confusion_matrix(y_val,rf_val_pred))"
   ]
  },
  {
   "cell_type": "code",
   "execution_count": 45,
   "id": "5fff1a28",
   "metadata": {},
   "outputs": [
    {
     "name": "stdout",
     "output_type": "stream",
     "text": [
      "Classification report: \n",
      "\n",
      "              precision    recall  f1-score   support\n",
      "\n",
      "           0       0.81      0.88      0.84      6790\n",
      "           1       0.87      0.80      0.83      6934\n",
      "\n",
      "    accuracy                           0.84     13724\n",
      "   macro avg       0.84      0.84      0.84     13724\n",
      "weighted avg       0.84      0.84      0.84     13724\n",
      "\n"
     ]
    }
   ],
   "source": [
    "# Classification report of the model on the validation set\n",
    "print('Classification report: \\n')\n",
    "print(classification_report(y_val,rf_val_pred))"
   ]
  },
  {
   "cell_type": "markdown",
   "id": "5a20dab8",
   "metadata": {},
   "source": [
    "#### Model 5: XGBoost"
   ]
  },
  {
   "cell_type": "code",
   "execution_count": 52,
   "id": "71b58b01",
   "metadata": {},
   "outputs": [
    {
     "name": "stdout",
     "output_type": "stream",
     "text": [
      "[23:56:37] WARNING: ../src/learner.cc:1115: Starting in XGBoost 1.3.0, the default evaluation metric used with the objective 'binary:logistic' was changed from 'error' to 'logloss'. Explicitly set eval_metric if you'd like to restore the old behavior.\n"
     ]
    },
    {
     "data": {
      "text/plain": [
       "Pipeline(steps=[('preprocessor',\n",
       "                 ColumnTransformer(transformers=[('num', StandardScaler(),\n",
       "                                                  ['duration', 'goal',\n",
       "                                                   'name_length',\n",
       "                                                   'description_length']),\n",
       "                                                 ('cat',\n",
       "                                                  OneHotEncoder(handle_unknown='ignore',\n",
       "                                                                sparse=False),\n",
       "                                                  ['category', 'subcategory',\n",
       "                                                   'country', 'launched_day',\n",
       "                                                   'launched_month',\n",
       "                                                   'launched_year'])])),\n",
       "                ('model_xgb',\n",
       "                 XGBClassifier(base_score=0.5, booster='gbtree'...\n",
       "                               interaction_constraints='',\n",
       "                               learning_rate=0.300000012, max_delta_step=0,\n",
       "                               max_depth=6, min_child_weight=1, missing=nan,\n",
       "                               monotone_constraints='()', n_estimators=100,\n",
       "                               n_jobs=8, num_parallel_tree=1, predictor='auto',\n",
       "                               random_state=0, reg_alpha=0, reg_lambda=1,\n",
       "                               scale_pos_weight=1, subsample=1,\n",
       "                               tree_method='exact', use_label_encoder=False,\n",
       "                               validate_parameters=1, verbosity=None))])"
      ]
     },
     "execution_count": 52,
     "metadata": {},
     "output_type": "execute_result"
    }
   ],
   "source": [
    "# XGBClassifier Model\n",
    "model_xgb = XGBClassifier(n_estimators= 100, use_label_encoder=False)\n",
    "\n",
    "xgb = Pipeline(steps=[('preprocessor', preprocessor),\n",
    "                      ('model_xgb', model_xgb)\n",
    "])\n",
    "\n",
    "xgb.fit(X_train,y_train)"
   ]
  },
  {
   "cell_type": "code",
   "execution_count": 53,
   "id": "a32374b8",
   "metadata": {},
   "outputs": [
    {
     "name": "stdout",
     "output_type": "stream",
     "text": [
      "Training score: 0.8183689642294344\n",
      "Validation score: 0.8159428737977266\n"
     ]
    }
   ],
   "source": [
    "# Measuring accuracy of the model with the training score and the validation score\n",
    "xgb_train_pred = xgb.predict(X_train)\n",
    "xgb_val_pred = xgb.predict(X_val)\n",
    "\n",
    "score = sklearn.metrics.accuracy_score(y_train,xgb_train_pred)\n",
    "print('Training score: ' + str(score))\n",
    "\n",
    "score = sklearn.metrics.accuracy_score(y_val,xgb_val_pred)\n",
    "print('Validation score: ' + str(score))"
   ]
  },
  {
   "cell_type": "code",
   "execution_count": 54,
   "id": "1c23b480",
   "metadata": {},
   "outputs": [
    {
     "name": "stdout",
     "output_type": "stream",
     "text": [
      "Confusion matrix: \n",
      "\n",
      "[[5927  863]\n",
      " [1663 5271]]\n"
     ]
    }
   ],
   "source": [
    "# Confusion matrix of the model on the validation set \n",
    "print('Confusion matrix: \\n')\n",
    "print(confusion_matrix(y_val,xgb_val_pred))"
   ]
  },
  {
   "cell_type": "code",
   "execution_count": 55,
   "id": "4fe95bf1",
   "metadata": {},
   "outputs": [
    {
     "name": "stdout",
     "output_type": "stream",
     "text": [
      "Classification report: \n",
      "\n",
      "              precision    recall  f1-score   support\n",
      "\n",
      "           0       0.78      0.87      0.82      6790\n",
      "           1       0.86      0.76      0.81      6934\n",
      "\n",
      "    accuracy                           0.82     13724\n",
      "   macro avg       0.82      0.82      0.82     13724\n",
      "weighted avg       0.82      0.82      0.82     13724\n",
      "\n"
     ]
    }
   ],
   "source": [
    "# Classification report of the model on the validation set \n",
    "print('Classification report: \\n')\n",
    "print(classification_report(y_val,xgb_val_pred))"
   ]
  },
  {
   "cell_type": "markdown",
   "id": "58cbd9d0",
   "metadata": {},
   "source": [
    "#### Model 6: K Nearest Neighbors"
   ]
  },
  {
   "cell_type": "code",
   "execution_count": 340,
   "id": "5c052d32",
   "metadata": {},
   "outputs": [
    {
     "data": {
      "text/plain": [
       "Pipeline(steps=[('preprocessor',\n",
       "                 ColumnTransformer(transformers=[('num', StandardScaler(),\n",
       "                                                  ['duration', 'goal',\n",
       "                                                   'name_length',\n",
       "                                                   'description_length']),\n",
       "                                                 ('cat',\n",
       "                                                  OneHotEncoder(handle_unknown='ignore',\n",
       "                                                                sparse=False),\n",
       "                                                  ['category', 'subcategory',\n",
       "                                                   'country', 'launched_day',\n",
       "                                                   'launched_month',\n",
       "                                                   'launched_year'])])),\n",
       "                ('model', KNeighborsClassifier())])"
      ]
     },
     "execution_count": 340,
     "metadata": {},
     "output_type": "execute_result"
    }
   ],
   "source": [
    "# KNN Model\n",
    "knn_model = KNeighborsClassifier()\n",
    "knn = Pipeline(steps=[('preprocessor', preprocessor),\n",
    "                      ('model', knn_model)\n",
    "])\n",
    "knn.fit(X_train, y_train)"
   ]
  },
  {
   "cell_type": "code",
   "execution_count": 341,
   "id": "48dc0669",
   "metadata": {
    "scrolled": false
   },
   "outputs": [
    {
     "name": "stdout",
     "output_type": "stream",
     "text": [
      "Training score: 0.8452492644580673\n",
      "Validation score: 0.768216263480035\n"
     ]
    }
   ],
   "source": [
    "# Measuring accuracy of the model with the training score and the validation score\n",
    "knn_train_pred = knn.predict(X_train)\n",
    "knn_val_pred = knn.predict(X_val)\n",
    "\n",
    "score = sklearn.metrics.accuracy_score(y_train,knn_train_pred)\n",
    "print('Training score: ' + str(score))\n",
    "\n",
    "score = sklearn.metrics.accuracy_score(y_val,knn_val_pred)\n",
    "print('Validation score: ' + str(score))"
   ]
  },
  {
   "cell_type": "code",
   "execution_count": 342,
   "id": "56cb2095",
   "metadata": {},
   "outputs": [
    {
     "name": "stdout",
     "output_type": "stream",
     "text": [
      "Confusion matrix: \n",
      "\n",
      "[[5123 1667]\n",
      " [1514 5420]]\n"
     ]
    }
   ],
   "source": [
    "# Confusion matrix of the model on the validation set\n",
    "print('Confusion matrix: \\n')\n",
    "print(confusion_matrix(y_val,knn_val_pred))"
   ]
  },
  {
   "cell_type": "code",
   "execution_count": 343,
   "id": "01276cad",
   "metadata": {},
   "outputs": [
    {
     "name": "stdout",
     "output_type": "stream",
     "text": [
      "Classification report: \n",
      "\n",
      "              precision    recall  f1-score   support\n",
      "\n",
      "           0       0.77      0.75      0.76      6790\n",
      "           1       0.76      0.78      0.77      6934\n",
      "\n",
      "    accuracy                           0.77     13724\n",
      "   macro avg       0.77      0.77      0.77     13724\n",
      "weighted avg       0.77      0.77      0.77     13724\n",
      "\n"
     ]
    }
   ],
   "source": [
    "# Classification report of the model on the validation set\n",
    "print('Classification report: \\n')\n",
    "print(classification_report(y_val,knn_val_pred))"
   ]
  },
  {
   "cell_type": "markdown",
   "id": "8a767096",
   "metadata": {},
   "source": [
    "### Comparing the models"
   ]
  },
  {
   "cell_type": "markdown",
   "id": "19f4e117",
   "metadata": {},
   "source": [
    "**1 - Accuracy**"
   ]
  },
  {
   "cell_type": "code",
   "execution_count": 345,
   "id": "b8d89bab",
   "metadata": {},
   "outputs": [
    {
     "data": {
      "image/png": "[encoded data removed]",
      "text/plain": [
       "<Figure size 432x288 with 1 Axes>"
      ]
     },
     "metadata": {
      "needs_background": "light"
     },
     "output_type": "display_data"
    }
   ],
   "source": [
    "# Plotting and comparing the accuracy of each model\n",
    "Logistic = sklearn.metrics.accuracy_score(y_val,log_val_pred)\n",
    "SVM = sklearn.metrics.accuracy_score(y_val,svc_val_pred)  \n",
    "DecisionTree = sklearn.metrics.accuracy_score(y_val,dt_val_pred)\n",
    "RandomForest = sklearn.metrics.accuracy_score(y_val,rf_val_pred)\n",
    "XGBoost = sklearn.metrics.accuracy_score(y_val,xgb_val_pred)\n",
    "KNN = sklearn.metrics.accuracy_score(y_val,knn_val_pred)\n",
    "\n",
    "accuracy = pd.DataFrame({'model':['Logistic','SVM','Decision Tree','Random Forest','XGBoost','KNN'],\n",
    "                         'accuracy':[Logistic, SVM, DecisionTree, RandomForest, XGBoost, KNN]})\n",
    "\n",
    "sns.barplot(data=accuracy.sort_values(by='accuracy',ascending=False), x='model', y='accuracy',palette='Blues')\n",
    "# There is no title to this graph as I would need to rerun the SVC model to add it up, sorry for the incovenience\n",
    "# plt.title('Comparison of the Accuracy of each model')\n",
    "plt.xticks(rotation=45,ha='right')\n",
    "plt.show();"
   ]
  },
  {
   "cell_type": "markdown",
   "id": "5f13ec0d",
   "metadata": {},
   "source": [
    "Overall, the models show an accuracy between 75% and 84%. The KNN is the least accurate and the random forest is the most accurate so far. The SVM shows a good accuracy, however, for time and computational purposes we won't be focusing on this model for further analysis. The following confusion matrix will complement the accuracy score of the models in order to choose which models to focus on in the next chapter - between the Random Forest, XGBoost, Decision Tree and Logistic Regression."
   ]
  },
  {
   "cell_type": "markdown",
   "id": "8669de3e",
   "metadata": {},
   "source": [
    "**2 - Confusion Matrix**"
   ]
  },
  {
   "cell_type": "code",
   "execution_count": 71,
   "id": "7e7f60f2",
   "metadata": {},
   "outputs": [
    {
     "data": {
      "image/png": "[encoded data removed]",
      "text/plain": [
       "<Figure size 1152x504 with 12 Axes>"
      ]
     },
     "metadata": {
      "needs_background": "light"
     },
     "output_type": "display_data"
    }
   ],
   "source": [
    "# Setting figure to compare the confusion matrix of each model based on heatmaps\n",
    "plt.figure(figsize=(16,7))\n",
    "\n",
    "# Logistic model confusion matrix heatmap\n",
    "plt.subplot(2,3,1)\n",
    "sns.heatmap(confusion_matrix(y_val,log_val_pred)/np.sum(confusion_matrix(y_val,log_val_pred)), annot=True, fmt='.2%',cmap='Blues')\n",
    "plt.title('Logistic')\n",
    "\n",
    "# SVM model confusion matrix heatmap\n",
    "plt.subplot(2,3,2)\n",
    "sns.heatmap(confusion_matrix(y_val,svc_val_pred)/np.sum(confusion_matrix(y_val,svc_val_pred)), annot=True, fmt='.2%',cmap='Blues')\n",
    "plt.title('SVM')\n",
    "\n",
    "# Decision Tree confusion matrix heatmap\n",
    "plt.subplot(2,3,3)\n",
    "sns.heatmap(confusion_matrix(y_val,dt_val_pred)/np.sum(confusion_matrix(y_val,dt_val_pred)), annot=True, fmt='.2%',cmap='Blues')\n",
    "plt.title('Decision Tree')\n",
    "\n",
    "# Random Forest confusion matrix heatmap\n",
    "plt.subplot(2,3,4)\n",
    "sns.heatmap(confusion_matrix(y_val,rf_val_pred)/np.sum(confusion_matrix(y_val,rf_val_pred)), annot=True, fmt='.2%',cmap='Blues')\n",
    "plt.title('Random Forest')\n",
    "\n",
    "# XGBoost confusion matrix heatmap\n",
    "plt.subplot(2,3,5)\n",
    "sns.heatmap(confusion_matrix(y_val,xgb_val_pred)/np.sum(confusion_matrix(y_val,xgb_val_pred)), annot=True, fmt='.2%',cmap='Blues')\n",
    "plt.title('XGBoost')\n",
    "\n",
    "# KNN confusion matrix heatmap\n",
    "plt.subplot(2,3,6)\n",
    "sns.heatmap(confusion_matrix(y_val,knn_val_pred)/np.sum(confusion_matrix(y_val,knn_val_pred)), annot=True, fmt='.2%',cmap='Blues')\n",
    "plt.title('KNN')\n",
    "\n",
    "plt.show();"
   ]
  },
  {
   "cell_type": "markdown",
   "id": "e152c8b8",
   "metadata": {},
   "source": [
    "Note that in our context, a False Positive indicates that the model predicted that a campaign would be successful while in reality it is a failure. As a result, here a FP is far more 'dangerous' than a TP. Among the 4 models we stated above, the Decision Tree has the highest rate of FP, while the Logistic Regression shows the highest FN. Let's analyse further with a ROC Curve."
   ]
  },
  {
   "cell_type": "markdown",
   "id": "bc29fb98",
   "metadata": {},
   "source": [
    "**3 - ROC Curve**"
   ]
  },
  {
   "cell_type": "code",
   "execution_count": 350,
   "id": "5cfeab84",
   "metadata": {},
   "outputs": [],
   "source": [
    "from sklearn.metrics import roc_curve\n",
    "\n",
    "# Defining the ROC curve of each model\n",
    "fpr_log, tpr_log, thresholds_log = roc_curve(log_val_pred, y_val)\n",
    "fpr_svm, tpr_svm, thresholds_svm = roc_curve(svc_val_pred, y_val)\n",
    "fpr_dt, tpr_dt, thresholds_dt = roc_curve(dt_val_pred, y_val)\n",
    "fpr_rf, tpr_rf, thresholds_rf = roc_curve(rf_val_pred, y_val)\n",
    "fpr_xgb, tpr_xgb, thresholds_xgb = roc_curve(xgb_val_pred, y_val)\n",
    "fpr_knn, tpr_knn, thresholds_knn = roc_curve(knn_val_pred, y_val)"
   ]
  },
  {
   "cell_type": "code",
   "execution_count": 351,
   "id": "a472ebd7",
   "metadata": {
    "scrolled": false
   },
   "outputs": [
    {
     "data": {
      "image/png": "[encoded data removed]",
      "text/plain": [
       "<Figure size 432x432 with 1 Axes>"
      ]
     },
     "metadata": {
      "needs_background": "light"
     },
     "output_type": "display_data"
    }
   ],
   "source": [
    "# Setting up the same figure for each plot\n",
    "def plot_roc_curve(fpr, tpr, label=None):\n",
    "    plt.plot(fpr, tpr, linewidth=2, label=label)\n",
    "    plt.plot([0, 1], [0, 1], 'k--')\n",
    "    plt.axis([0, 1, 0, 1])\n",
    "    plt.xlabel('False Positive Rate')\n",
    "    plt.ylabel('True Positive Rate')\n",
    "    plt.title('ROC curve')\n",
    "\n",
    "# Plotting the ROC Curve of each model on the same graph\n",
    "fig = plt.figure(figsize=(6,6))\n",
    "plot_roc_curve(fpr_log, tpr_log, label='logistic')\n",
    "plot_roc_curve(fpr_svm, tpr_svm, label='svm')\n",
    "plot_roc_curve(fpr_dt, tpr_dt, label='decision tree')\n",
    "plot_roc_curve(fpr_rf, tpr_rf, label='random forest')\n",
    "plot_roc_curve(fpr_xgb, tpr_xgb, label='xgboost')\n",
    "plot_roc_curve(fpr_knn, tpr_knn, label='knn')\n",
    "plt.legend(loc=\"lower right\")\n",
    "plt.show();"
   ]
  },
  {
   "cell_type": "markdown",
   "id": "35e40a72",
   "metadata": {},
   "source": [
    "The ROC Curve shows the trade-off between the True Positive Rate (sensitivity) and the False Positive Rate (accuracy). Here we can see that the DT and KNN are the most balanced since they are perfectly axed in the diagonal. On the other hand, the other models show a better False Positive Rate than True Positive Rate. "
   ]
  },
  {
   "cell_type": "markdown",
   "id": "0d23b40d",
   "metadata": {},
   "source": [
    "While the Logistic Regression has a lower TP Rate, we will continue with the Decision Tree to see if we manage to reprieve it from overfitting. The next section will hence focus on : DT, RF, and XGBoost."
   ]
  },
  {
   "cell_type": "markdown",
   "id": "600a836a",
   "metadata": {},
   "source": [
    "### Section 4.2: <a class=\"anchor\" id=\"section_4_2\"></a> Model Fine Tuning"
   ]
  },
  {
   "cell_type": "markdown",
   "id": "bafbebb9",
   "metadata": {},
   "source": [
    "#### 1 - Feature importance"
   ]
  },
  {
   "cell_type": "markdown",
   "id": "4f607f33",
   "metadata": {},
   "source": [
    "**Decision Tree**"
   ]
  },
  {
   "cell_type": "code",
   "execution_count": 352,
   "id": "e62884d2",
   "metadata": {
    "scrolled": false
   },
   "outputs": [
    {
     "data": {
      "image/png": "[encoded data removed]",
      "text/plain": [
       "<Figure size 432x432 with 1 Axes>"
      ]
     },
     "metadata": {
      "needs_background": "light"
     },
     "output_type": "display_data"
    }
   ],
   "source": [
    "# Get features names (they have been broken down in the pipeline with the One Hot Encoding)\n",
    "feature_names = dt[:1].get_feature_names_out()\n",
    "\n",
    "# get importance\n",
    "importance = dt['model'].feature_importances_\n",
    "\n",
    "# Make a DataFrame by mapping the 2 arrays on the index\n",
    "dt_feature_importance = pd.DataFrame(importance,feature_names)\n",
    "\n",
    "# Reset the index and the sort the dataframe by importance\n",
    "dt_feature_importance = dt_feature_importance.reset_index().rename(columns={'index': 'feature_name', 0 : 'importance'}).sort_values(by='importance',ascending=False).head(20)\n",
    "\n",
    "# Plot the top 20 most important features\n",
    "plt.figure(figsize=(6,6))\n",
    "sns.barplot(data=dt_feature_importance,x='importance',y='feature_name',color='#6076A3')\n",
    "plt.title('Decision Tree top 20 of the most important features')\n",
    "plt.show();"
   ]
  },
  {
   "cell_type": "markdown",
   "id": "9d8e0e87",
   "metadata": {},
   "source": [
    "Selecting important features"
   ]
  },
  {
   "cell_type": "code",
   "execution_count": 9,
   "id": "dec8d55e",
   "metadata": {},
   "outputs": [],
   "source": [
    "# Selecting categorical columns\n",
    "dt_categorical_cols = [\"category\",\"subcategory\",\"launched_year\"]\n",
    "# Selecting numerical columns\n",
    "dt_numerical_cols = [\"duration\",\"goal\",\"name_length\",\"description_length\"]\n",
    "\n",
    "# Preprocessing for categorical data\n",
    "encoder = OneHotEncoder(handle_unknown='ignore', sparse=False)\n",
    "\n",
    "# Preprocessing for numerical data\n",
    "sc = StandardScaler()\n",
    "\n",
    "# Bundle preprocessing for numerical and categorical data\n",
    "dt_preprocessor = ColumnTransformer(\n",
    "    transformers=[\n",
    "        ('num', sc, dt_numerical_cols),\n",
    "        ('cat', encoder, dt_categorical_cols)\n",
    "    ])"
   ]
  },
  {
   "cell_type": "code",
   "execution_count": 10,
   "id": "7ff99ab7",
   "metadata": {},
   "outputs": [
    {
     "data": {
      "text/plain": [
       "Pipeline(steps=[('preprocessor',\n",
       "                 ColumnTransformer(transformers=[('num', StandardScaler(),\n",
       "                                                  ['duration', 'goal',\n",
       "                                                   'name_length',\n",
       "                                                   'description_length']),\n",
       "                                                 ('cat',\n",
       "                                                  OneHotEncoder(handle_unknown='ignore',\n",
       "                                                                sparse=False),\n",
       "                                                  ['category', 'subcategory',\n",
       "                                                   'launched_year'])])),\n",
       "                ('model', DecisionTreeClassifier(criterion='entropy'))])"
      ]
     },
     "execution_count": 10,
     "metadata": {},
     "output_type": "execute_result"
    }
   ],
   "source": [
    "# Setting up the model\n",
    "dtc2 = DecisionTreeClassifier(criterion='entropy')\n",
    "dt2 = Pipeline(steps=[('preprocessor', dt_preprocessor),\n",
    "                      ('model', dtc2)\n",
    "])\n",
    "\n",
    "dt2.fit(X_train,y_train)"
   ]
  },
  {
   "cell_type": "code",
   "execution_count": 11,
   "id": "47c30e47",
   "metadata": {},
   "outputs": [
    {
     "name": "stdout",
     "output_type": "stream",
     "text": [
      "Validation score: 0.7666860973477121\n"
     ]
    }
   ],
   "source": [
    "# Measuring accuracy of the model with the training score and the validation score\n",
    "dt2_val_pred = dt2.predict(X_val)\n",
    "\n",
    "score = sklearn.metrics.accuracy_score(y_val,dt2_val_pred)\n",
    "print('Validation score: ' + str(score))"
   ]
  },
  {
   "cell_type": "markdown",
   "id": "a423d0d7",
   "metadata": {},
   "source": [
    "**Random Forest**"
   ]
  },
  {
   "cell_type": "code",
   "execution_count": 357,
   "id": "a20861c2",
   "metadata": {},
   "outputs": [
    {
     "data": {
      "image/png": "[encoded data removed]",
      "text/plain": [
       "<Figure size 432x432 with 1 Axes>"
      ]
     },
     "metadata": {
      "needs_background": "light"
     },
     "output_type": "display_data"
    }
   ],
   "source": [
    "# Get features names (they have been broken down in the pipeline with the One Hot Encoding)\n",
    "feature_names = rf[:1].get_feature_names_out()\n",
    "\n",
    "# get importance\n",
    "importance = rf['model'].feature_importances_\n",
    "\n",
    "# Make a DataFrame by mapping the 2 arrays on the index\n",
    "rf_feature_importance = pd.DataFrame(importance,feature_names)\n",
    "\n",
    "# Reset the index and the sort the dataframe by importance\n",
    "rf_feature_importance = rf_feature_importance.reset_index().rename(columns={'index': 'feature_name', 0 : 'importance'}).sort_values(by='importance',ascending=False).head(20)\n",
    "\n",
    "# Plot the top 20 most important features\n",
    "plt.figure(figsize=(6,6))\n",
    "sns.barplot(data=rf_feature_importance,x='importance',y='feature_name',color='#6076A3')\n",
    "plt.title('Random Forest top 20 of the most important features')\n",
    "plt.show();"
   ]
  },
  {
   "cell_type": "markdown",
   "id": "0e66426e",
   "metadata": {},
   "source": [
    "Selecting important features"
   ]
  },
  {
   "cell_type": "code",
   "execution_count": 12,
   "id": "8b04f782",
   "metadata": {},
   "outputs": [],
   "source": [
    "# Selecting categorical columns\n",
    "rf_categorical_cols = [\"category\",\"subcategory\",\"launched_year\"]\n",
    "# Selecting numerical columns\n",
    "rf_numerical_cols = [\"duration\",\"goal\",\"name_length\",\"description_length\"]\n",
    "\n",
    "# Preprocessing for categorical data\n",
    "encoder = OneHotEncoder(handle_unknown='ignore', sparse=False)\n",
    "\n",
    "# Preprocessing for numerical data\n",
    "sc = StandardScaler()\n",
    "\n",
    "# Bundle preprocessing for numerical and categorical data\n",
    "rf_preprocessor = ColumnTransformer(\n",
    "    transformers=[\n",
    "        ('num', sc, rf_numerical_cols),\n",
    "        ('cat', encoder, rf_categorical_cols)\n",
    "    ])"
   ]
  },
  {
   "cell_type": "code",
   "execution_count": 13,
   "id": "a4a5b07d",
   "metadata": {},
   "outputs": [
    {
     "data": {
      "text/plain": [
       "Pipeline(steps=[('preprocessor',\n",
       "                 ColumnTransformer(transformers=[('num', StandardScaler(),\n",
       "                                                  ['duration', 'goal',\n",
       "                                                   'name_length',\n",
       "                                                   'description_length']),\n",
       "                                                 ('cat',\n",
       "                                                  OneHotEncoder(handle_unknown='ignore',\n",
       "                                                                sparse=False),\n",
       "                                                  ['category', 'subcategory',\n",
       "                                                   'launched_year'])])),\n",
       "                ('model', RandomForestClassifier())])"
      ]
     },
     "execution_count": 13,
     "metadata": {},
     "output_type": "execute_result"
    }
   ],
   "source": [
    "# Setting up the model\n",
    "rfc2 = RandomForestClassifier()\n",
    "rf2 = Pipeline(steps=[('preprocessor', rf_preprocessor),\n",
    "                      ('model', rfc2)\n",
    "])\n",
    "\n",
    "rf2.fit(X_train,y_train)"
   ]
  },
  {
   "cell_type": "code",
   "execution_count": 14,
   "id": "86de3a13",
   "metadata": {},
   "outputs": [
    {
     "name": "stdout",
     "output_type": "stream",
     "text": [
      "Validation score: 0.8267997668318274\n"
     ]
    }
   ],
   "source": [
    "# Measuring accuracy of the model with the training score and the validation score\n",
    "rf2_val_pred = rf2.predict(X_val)\n",
    "\n",
    "score = sklearn.metrics.accuracy_score(y_val,rf2_val_pred)\n",
    "print('Validation score: ' + str(score))"
   ]
  },
  {
   "cell_type": "markdown",
   "id": "ec156e63",
   "metadata": {},
   "source": [
    "**XGBoost**"
   ]
  },
  {
   "cell_type": "code",
   "execution_count": 365,
   "id": "b70f1c2c",
   "metadata": {},
   "outputs": [
    {
     "data": {
      "image/png": "[encoded data removed]",
      "text/plain": [
       "<Figure size 432x576 with 1 Axes>"
      ]
     },
     "metadata": {
      "needs_background": "light"
     },
     "output_type": "display_data"
    }
   ],
   "source": [
    "# Get features names (they have been broken down in the pipeline with the One Hot Encoding)\n",
    "feature_names = xgb[:1].get_feature_names_out()\n",
    "\n",
    "# get importance\n",
    "importance = xgb['model_xgb'].feature_importances_\n",
    "\n",
    "# Make a DataFrame by mapping the 2 arrays on the index\n",
    "xgb_feature_importance = pd.DataFrame(importance,feature_names)\n",
    "\n",
    "# Reset the index and the sort the dataframe by importance\n",
    "xgb_feature_importance = xgb_feature_importance.reset_index().rename(columns={'index': 'feature_name', 0 : 'importance'}).sort_values(by='importance',ascending=False).head(40)\n",
    "\n",
    "# Plot the top 20 most important features\n",
    "plt.figure(figsize=(6,8))\n",
    "sns.barplot(data=xgb_feature_importance,x='importance',y='feature_name',color='#6076A3')\n",
    "plt.title('XGBoost top 40 of the most important features')\n",
    "plt.show();"
   ]
  },
  {
   "cell_type": "markdown",
   "id": "4d56abfd",
   "metadata": {},
   "source": [
    "Selecting important features"
   ]
  },
  {
   "cell_type": "code",
   "execution_count": 15,
   "id": "5ebf4829",
   "metadata": {},
   "outputs": [],
   "source": [
    "# Selecting categorical columns\n",
    "xgb_categorical_cols = [\"category\",\"subcategory\",\"launched_year\"]\n",
    "# Selecting numerical columns\n",
    "xgb_numerical_cols = [\"duration\",\"name_length\"]\n",
    "\n",
    "# Preprocessing for categorical data\n",
    "encoder = OneHotEncoder(handle_unknown='ignore', sparse=False)\n",
    "\n",
    "# Preprocessing for numerical data\n",
    "sc = StandardScaler()\n",
    "\n",
    "# Bundle preprocessing for numerical and categorical data\n",
    "xgb_preprocessor = ColumnTransformer(\n",
    "    transformers=[\n",
    "        ('num', sc, xgb_numerical_cols),\n",
    "        ('cat', encoder, xgb_categorical_cols)\n",
    "    ])"
   ]
  },
  {
   "cell_type": "code",
   "execution_count": 16,
   "id": "7a4b430c",
   "metadata": {},
   "outputs": [
    {
     "name": "stdout",
     "output_type": "stream",
     "text": [
      "[22:38:40] WARNING: ../src/learner.cc:1115: Starting in XGBoost 1.3.0, the default evaluation metric used with the objective 'binary:logistic' was changed from 'error' to 'logloss'. Explicitly set eval_metric if you'd like to restore the old behavior.\n"
     ]
    },
    {
     "data": {
      "text/plain": [
       "Pipeline(steps=[('preprocessor',\n",
       "                 ColumnTransformer(transformers=[('num', StandardScaler(),\n",
       "                                                  ['duration', 'name_length']),\n",
       "                                                 ('cat',\n",
       "                                                  OneHotEncoder(handle_unknown='ignore',\n",
       "                                                                sparse=False),\n",
       "                                                  ['category', 'subcategory',\n",
       "                                                   'launched_year'])])),\n",
       "                ('model',\n",
       "                 XGBClassifier(base_score=0.5, booster='gbtree',\n",
       "                               colsample_bylevel=1, colsample_bynode=1,\n",
       "                               colsample_bytree=1, enable_categori...\n",
       "                               interaction_constraints='',\n",
       "                               learning_rate=0.300000012, max_delta_step=0,\n",
       "                               max_depth=6, min_child_weight=1, missing=nan,\n",
       "                               monotone_constraints='()', n_estimators=100,\n",
       "                               n_jobs=8, num_parallel_tree=1, predictor='auto',\n",
       "                               random_state=0, reg_alpha=0, reg_lambda=1,\n",
       "                               scale_pos_weight=1, subsample=1,\n",
       "                               tree_method='exact', use_label_encoder=False,\n",
       "                               validate_parameters=1, verbosity=None))])"
      ]
     },
     "execution_count": 16,
     "metadata": {},
     "output_type": "execute_result"
    }
   ],
   "source": [
    "# Setting up the model\n",
    "xgbmodel2 = XGBClassifier(n_estimators=100, use_label_encoder=False)\n",
    "xgb2 = Pipeline(steps=[('preprocessor', xgb_preprocessor),\n",
    "                      ('model', xgbmodel2)\n",
    "])\n",
    "\n",
    "xgb2.fit(X_train,y_train)"
   ]
  },
  {
   "cell_type": "code",
   "execution_count": 17,
   "id": "154586ce",
   "metadata": {},
   "outputs": [
    {
     "name": "stdout",
     "output_type": "stream",
     "text": [
      "Validation score: 0.7955406587000874\n"
     ]
    }
   ],
   "source": [
    "# Measuring accuracy of the model with the training score and the validation score\n",
    "xgb2_val_pred = xgb2.predict(X_val)\n",
    "\n",
    "score = sklearn.metrics.accuracy_score(y_val,xgb2_val_pred)\n",
    "print('Validation score: ' + str(score))"
   ]
  },
  {
   "cell_type": "markdown",
   "id": "93b9c796",
   "metadata": {},
   "source": [
    "Report on feature selection: For the 3 models, performing feature selection does not work well due to the high number of classes for categorical features. As a result, the performance of each of those 3  with feature importance is lower than without. Note that feature selection could potentially be useful in order to save computational power. It is one of the trade offs we can face in a business context for example."
   ]
  },
  {
   "cell_type": "markdown",
   "id": "c8ae9ec0",
   "metadata": {},
   "source": [
    "#### 2 - Cross Validation"
   ]
  },
  {
   "cell_type": "markdown",
   "id": "8205ec59",
   "metadata": {},
   "source": [
    "Since the best model so far is Random Forest, we will try to use cross-validation on it in order to check if the accuracy improves while preventing the model to overfit."
   ]
  },
  {
   "cell_type": "code",
   "execution_count": 46,
   "id": "e45df7eb",
   "metadata": {},
   "outputs": [],
   "source": [
    "# Random Forest Model\n",
    "rfc3 = RandomForestClassifier(n_estimators=100)\n",
    "rf3 = Pipeline(steps=[('preprocessor', preprocessor),\n",
    "                      ('model', rfc3)\n",
    "])\n",
    "\n",
    "rf3_predicted = cross_val_predict(rf3, X_train, y_train, cv=5)"
   ]
  },
  {
   "cell_type": "code",
   "execution_count": 47,
   "id": "8d478577",
   "metadata": {},
   "outputs": [
    {
     "name": "stdout",
     "output_type": "stream",
     "text": [
      "Cross Validation Accuracy Score:  0.8269222010693823\n"
     ]
    }
   ],
   "source": [
    "score = metrics.accuracy_score(y_train, rf3_predicted)\n",
    "print('Cross Validation Accuracy Score: ', score)"
   ]
  },
  {
   "cell_type": "markdown",
   "id": "ce51298d",
   "metadata": {},
   "source": [
    "The accuracy on Cross Validation is still lower than without (reference to RF in Stage 1). Now, we will build another ensemble method by combining our initial DT, RF and XGBoost."
   ]
  },
  {
   "cell_type": "markdown",
   "id": "5ad372aa",
   "metadata": {},
   "source": [
    "#### 3 - VotingClassifier"
   ]
  },
  {
   "cell_type": "code",
   "execution_count": 56,
   "id": "f22ef724",
   "metadata": {},
   "outputs": [
    {
     "name": "stdout",
     "output_type": "stream",
     "text": [
      "[00:00:55] WARNING: ../src/learner.cc:1115: Starting in XGBoost 1.3.0, the default evaluation metric used with the objective 'binary:logistic' was changed from 'error' to 'logloss'. Explicitly set eval_metric if you'd like to restore the old behavior.\n"
     ]
    },
    {
     "data": {
      "text/plain": [
       "Pipeline(steps=[('preprocessor',\n",
       "                 ColumnTransformer(transformers=[('num', StandardScaler(),\n",
       "                                                  ['duration', 'goal',\n",
       "                                                   'name_length',\n",
       "                                                   'description_length']),\n",
       "                                                 ('cat',\n",
       "                                                  OneHotEncoder(handle_unknown='ignore',\n",
       "                                                                sparse=False),\n",
       "                                                  ['category', 'subcategory',\n",
       "                                                   'country', 'launched_day',\n",
       "                                                   'launched_month',\n",
       "                                                   'launched_year'])])),\n",
       "                ('model',\n",
       "                 VotingClassifier(estimators=[('logmodel',\n",
       "                                               Logistic...\n",
       "                                                             interaction_constraints='',\n",
       "                                                             learning_rate=0.300000012,\n",
       "                                                             max_delta_step=0,\n",
       "                                                             max_depth=6,\n",
       "                                                             min_child_weight=1,\n",
       "                                                             missing=nan,\n",
       "                                                             monotone_constraints='()',\n",
       "                                                             n_estimators=100,\n",
       "                                                             n_jobs=8,\n",
       "                                                             num_parallel_tree=1,\n",
       "                                                             predictor='auto',\n",
       "                                                             random_state=0,\n",
       "                                                             reg_alpha=0,\n",
       "                                                             reg_lambda=1,\n",
       "                                                             scale_pos_weight=1,\n",
       "                                                             subsample=1,\n",
       "                                                             tree_method='exact',\n",
       "                                                             use_label_encoder=False,\n",
       "                                                             validate_parameters=1,\n",
       "                                                             verbosity=None))]))])"
      ]
     },
     "execution_count": 56,
     "metadata": {},
     "output_type": "execute_result"
    }
   ],
   "source": [
    "# Setting up the Voting Classifier\n",
    "voting_classifier = VotingClassifier(estimators=[('logmodel', logmodel), ('rfc', rfc), ('model_xgb', model_xgb)], voting='hard')\n",
    "vc = Pipeline(steps=[('preprocessor', preprocessor),\n",
    "                      ('model', voting_classifier)\n",
    "])\n",
    "\n",
    "# Fitting the model to the train set\n",
    "vc.fit(X_train, y_train)"
   ]
  },
  {
   "cell_type": "code",
   "execution_count": 57,
   "id": "7265502c",
   "metadata": {},
   "outputs": [
    {
     "name": "stdout",
     "output_type": "stream",
     "text": [
      "Validation score: 0.8205333721946955\n"
     ]
    }
   ],
   "source": [
    "# Measuring accuracy of the model with the validation score\n",
    "vc_val_pred = vc.predict(X_val)\n",
    "\n",
    "score = sklearn.metrics.accuracy_score(y_val,vc_val_pred)\n",
    "print('Validation score: ' + str(score))"
   ]
  },
  {
   "cell_type": "markdown",
   "id": "e1d6fc01",
   "metadata": {},
   "source": [
    "### Section 4.3: <a class=\"anchor\" id=\"section_4_3\"></a> Model Testing"
   ]
  },
  {
   "cell_type": "markdown",
   "id": "11219168",
   "metadata": {},
   "source": [
    "The best model so far is the random forest ran in the first stage. We will now use this model to evaluate our predictions on the test set."
   ]
  },
  {
   "cell_type": "code",
   "execution_count": 58,
   "id": "ac42466a",
   "metadata": {},
   "outputs": [
    {
     "name": "stdout",
     "output_type": "stream",
     "text": [
      "Testing score: 0.8205333721946955\n"
     ]
    }
   ],
   "source": [
    "# Measuring accuracy of the model with the testing score\n",
    "rf_predict = rf.predict(X_test)\n",
    "\n",
    "score = sklearn.metrics.accuracy_score(y_val,vc_val_pred)\n",
    "print('Testing score: ' + str(score))"
   ]
  },
  {
   "cell_type": "markdown",
   "id": "e68c1f36",
   "metadata": {},
   "source": [
    "# Chapter 5: <a class=\"anchor\" id=\"chapter5\"></a> Summary"
   ]
  },
  {
   "cell_type": "markdown",
   "id": "98b13645",
   "metadata": {},
   "source": [
    "We managed to predict the success of a campaign launched on Kickstarter with an accuracy of 82% using a Random Forest. The goal, the name length, the description length and the duration have emerged as the most important features. However, this might be the case only because these are numerical variables. XGBoost on the other hand highlighted that the most important features were categorical, which echos to the most successful categories and subcategories that we analysed in the EDA. Nonetheless, it is sensible to think that the most important feature is the amount requested (goal)."
   ]
  },
  {
   "cell_type": "markdown",
   "id": "1375dd4e",
   "metadata": {},
   "source": [
    "The models face some important limitations, however the biggest limitation comes from the data itself. Indeed, the itirations are very similar one to another which forces the Decision Tree and the Random Forest to overfit the training data. Other fine tuning models have been used to try to counter this effect such as Randomized Search, and even there, the provided hyperparameters were overfitting the training data. Moreover, note there is no random state on any model here which enabled each model to run a couple of times while showing the same results. This proves again that the main limitation here is the data rather than the models. As a result, we should expect a drop in accuracy when testing the Random Forest model on new incoming data."
   ]
  },
  {
   "cell_type": "markdown",
   "id": "c737c349",
   "metadata": {},
   "source": [
    "Some further steps could be considered to improve the accuracy and the robust of the model, such as adding streaming data to the dataset. Another idea would be to add a Natural Language Processing dimension in the modelling section, such as a sentiment analysis of the title or the description of the campaign."
   ]
  },
  {
   "cell_type": "markdown",
   "id": "9d947b35",
   "metadata": {},
   "source": [
    "# Chapter 6: <a class=\"anchor\" id=\"chapter6\"></a> References"
   ]
  },
  {
   "cell_type": "markdown",
   "id": "ea58fb66",
   "metadata": {},
   "source": [
    "Web Scraping Service. 2022. Kickstarter Datasets. Available at: <https://webrobots.io/kickstarter-datasets/>"
   ]
  }
 ],
 "metadata": {
  "kernelspec": {
   "display_name": "Python 3",
   "language": "python",
   "name": "python3"
  },
  "language_info": {
   "codemirror_mode": {
    "name": "ipython",
    "version": 3
   },
   "file_extension": ".py",
   "mimetype": "text/x-python",
   "name": "python",
   "nbconvert_exporter": "python",
   "pygments_lexer": "ipython3",
   "version": "3.8.2"
  }
 },
 "nbformat": 4,
 "nbformat_minor": 5
}
